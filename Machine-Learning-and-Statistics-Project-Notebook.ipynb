{
 "cells": [
  {
   "cell_type": "markdown",
   "metadata": {},
   "source": [
    "# 1. Introduction\n"
   ]
  },
  {
   "cell_type": "code",
   "execution_count": 1,
   "metadata": {},
   "outputs": [],
   "source": [
    "import pandas as pd\n",
    "import numpy as np\n",
    "import scipy as sp\n",
    "from scipy import stats\n",
    "import seaborn as sns\n",
    "import matplotlib.pyplot as pyplt\n",
    "%matplotlib inline\n",
    "#import keras as ks\n",
    "from sklearn.datasets import load_boston\n",
    "boston = load_boston()"
   ]
  },
  {
   "cell_type": "code",
   "execution_count": 2,
   "metadata": {},
   "outputs": [],
   "source": [
    "#df = pd.DataFrame(boston.data, columns=boston.feature_names)\n",
    "#df['target'] = boston.target"
   ]
  },
  {
   "cell_type": "code",
   "execution_count": 3,
   "metadata": {},
   "outputs": [],
   "source": [
    "df = pd.DataFrame(boston.data)\n",
    "df['Median_Value'] = boston.target"
   ]
  },
  {
   "cell_type": "code",
   "execution_count": 4,
   "metadata": {},
   "outputs": [
    {
     "data": {
      "text/html": [
       "<div>\n",
       "<style scoped>\n",
       "    .dataframe tbody tr th:only-of-type {\n",
       "        vertical-align: middle;\n",
       "    }\n",
       "\n",
       "    .dataframe tbody tr th {\n",
       "        vertical-align: top;\n",
       "    }\n",
       "\n",
       "    .dataframe thead th {\n",
       "        text-align: right;\n",
       "    }\n",
       "</style>\n",
       "<table border=\"1\" class=\"dataframe\">\n",
       "  <thead>\n",
       "    <tr style=\"text-align: right;\">\n",
       "      <th></th>\n",
       "      <th>0</th>\n",
       "      <th>1</th>\n",
       "      <th>2</th>\n",
       "      <th>3</th>\n",
       "      <th>4</th>\n",
       "      <th>5</th>\n",
       "      <th>6</th>\n",
       "      <th>7</th>\n",
       "      <th>8</th>\n",
       "      <th>9</th>\n",
       "      <th>10</th>\n",
       "      <th>11</th>\n",
       "      <th>12</th>\n",
       "      <th>Median_Value</th>\n",
       "    </tr>\n",
       "  </thead>\n",
       "  <tbody>\n",
       "    <tr>\n",
       "      <th>0</th>\n",
       "      <td>0.00632</td>\n",
       "      <td>18.0</td>\n",
       "      <td>2.31</td>\n",
       "      <td>0.0</td>\n",
       "      <td>0.538</td>\n",
       "      <td>6.575</td>\n",
       "      <td>65.2</td>\n",
       "      <td>4.0900</td>\n",
       "      <td>1.0</td>\n",
       "      <td>296.0</td>\n",
       "      <td>15.3</td>\n",
       "      <td>396.90</td>\n",
       "      <td>4.98</td>\n",
       "      <td>24.0</td>\n",
       "    </tr>\n",
       "    <tr>\n",
       "      <th>1</th>\n",
       "      <td>0.02731</td>\n",
       "      <td>0.0</td>\n",
       "      <td>7.07</td>\n",
       "      <td>0.0</td>\n",
       "      <td>0.469</td>\n",
       "      <td>6.421</td>\n",
       "      <td>78.9</td>\n",
       "      <td>4.9671</td>\n",
       "      <td>2.0</td>\n",
       "      <td>242.0</td>\n",
       "      <td>17.8</td>\n",
       "      <td>396.90</td>\n",
       "      <td>9.14</td>\n",
       "      <td>21.6</td>\n",
       "    </tr>\n",
       "    <tr>\n",
       "      <th>2</th>\n",
       "      <td>0.02729</td>\n",
       "      <td>0.0</td>\n",
       "      <td>7.07</td>\n",
       "      <td>0.0</td>\n",
       "      <td>0.469</td>\n",
       "      <td>7.185</td>\n",
       "      <td>61.1</td>\n",
       "      <td>4.9671</td>\n",
       "      <td>2.0</td>\n",
       "      <td>242.0</td>\n",
       "      <td>17.8</td>\n",
       "      <td>392.83</td>\n",
       "      <td>4.03</td>\n",
       "      <td>34.7</td>\n",
       "    </tr>\n",
       "    <tr>\n",
       "      <th>3</th>\n",
       "      <td>0.03237</td>\n",
       "      <td>0.0</td>\n",
       "      <td>2.18</td>\n",
       "      <td>0.0</td>\n",
       "      <td>0.458</td>\n",
       "      <td>6.998</td>\n",
       "      <td>45.8</td>\n",
       "      <td>6.0622</td>\n",
       "      <td>3.0</td>\n",
       "      <td>222.0</td>\n",
       "      <td>18.7</td>\n",
       "      <td>394.63</td>\n",
       "      <td>2.94</td>\n",
       "      <td>33.4</td>\n",
       "    </tr>\n",
       "    <tr>\n",
       "      <th>4</th>\n",
       "      <td>0.06905</td>\n",
       "      <td>0.0</td>\n",
       "      <td>2.18</td>\n",
       "      <td>0.0</td>\n",
       "      <td>0.458</td>\n",
       "      <td>7.147</td>\n",
       "      <td>54.2</td>\n",
       "      <td>6.0622</td>\n",
       "      <td>3.0</td>\n",
       "      <td>222.0</td>\n",
       "      <td>18.7</td>\n",
       "      <td>396.90</td>\n",
       "      <td>5.33</td>\n",
       "      <td>36.2</td>\n",
       "    </tr>\n",
       "  </tbody>\n",
       "</table>\n",
       "</div>"
      ],
      "text/plain": [
       "         0     1     2    3      4      5     6       7    8      9    10  \\\n",
       "0  0.00632  18.0  2.31  0.0  0.538  6.575  65.2  4.0900  1.0  296.0  15.3   \n",
       "1  0.02731   0.0  7.07  0.0  0.469  6.421  78.9  4.9671  2.0  242.0  17.8   \n",
       "2  0.02729   0.0  7.07  0.0  0.469  7.185  61.1  4.9671  2.0  242.0  17.8   \n",
       "3  0.03237   0.0  2.18  0.0  0.458  6.998  45.8  6.0622  3.0  222.0  18.7   \n",
       "4  0.06905   0.0  2.18  0.0  0.458  7.147  54.2  6.0622  3.0  222.0  18.7   \n",
       "\n",
       "       11    12  Median_Value  \n",
       "0  396.90  4.98          24.0  \n",
       "1  396.90  9.14          21.6  \n",
       "2  392.83  4.03          34.7  \n",
       "3  394.63  2.94          33.4  \n",
       "4  396.90  5.33          36.2  "
      ]
     },
     "execution_count": 4,
     "metadata": {},
     "output_type": "execute_result"
    }
   ],
   "source": [
    "df.head()"
   ]
  },
  {
   "cell_type": "markdown",
   "metadata": {},
   "source": [
    "### About the Dataset"
   ]
  },
  {
   "cell_type": "markdown",
   "metadata": {},
   "source": [
    "This dataset was created from data taken from the 1970 United States census and other sources and used in a paper investigating the willingness of people to pay more for clean air in the Boston housing market. "
   ]
  },
  {
   "cell_type": "markdown",
   "metadata": {},
   "source": [
    "Harrison, D. and Rubinfeld, D. (1978). Hedonic housing prices and the demand for clean air. Journal of Environmental Economics and Management, 5(1), pp.81-102."
   ]
  },
  {
   "cell_type": "markdown",
   "metadata": {},
   "source": [
    "The scikit learn source includes a description file that can be printed to learn more about the dataset and it's features:"
   ]
  },
  {
   "cell_type": "code",
   "execution_count": 5,
   "metadata": {},
   "outputs": [
    {
     "name": "stdout",
     "output_type": "stream",
     "text": [
      ".. _boston_dataset:\n",
      "\n",
      "Boston house prices dataset\n",
      "---------------------------\n",
      "\n",
      "**Data Set Characteristics:**  \n",
      "\n",
      "    :Number of Instances: 506 \n",
      "\n",
      "    :Number of Attributes: 13 numeric/categorical predictive. Median Value (attribute 14) is usually the target.\n",
      "\n",
      "    :Attribute Information (in order):\n",
      "        - CRIM     per capita crime rate by town\n",
      "        - ZN       proportion of residential land zoned for lots over 25,000 sq.ft.\n",
      "        - INDUS    proportion of non-retail business acres per town\n",
      "        - CHAS     Charles River dummy variable (= 1 if tract bounds river; 0 otherwise)\n",
      "        - NOX      nitric oxides concentration (parts per 10 million)\n",
      "        - RM       average number of rooms per dwelling\n",
      "        - AGE      proportion of owner-occupied units built prior to 1940\n",
      "        - DIS      weighted distances to five Boston employment centres\n",
      "        - RAD      index of accessibility to radial highways\n",
      "        - TAX      full-value property-tax rate per $10,000\n",
      "        - PTRATIO  pupil-teacher ratio by town\n",
      "        - B        1000(Bk - 0.63)^2 where Bk is the proportion of blacks by town\n",
      "        - LSTAT    % lower status of the population\n",
      "        - MEDV     Median value of owner-occupied homes in $1000's\n",
      "\n",
      "    :Missing Attribute Values: None\n",
      "\n",
      "    :Creator: Harrison, D. and Rubinfeld, D.L.\n",
      "\n",
      "This is a copy of UCI ML housing dataset.\n",
      "https://archive.ics.uci.edu/ml/machine-learning-databases/housing/\n",
      "\n",
      "\n",
      "This dataset was taken from the StatLib library which is maintained at Carnegie Mellon University.\n",
      "\n",
      "The Boston house-price data of Harrison, D. and Rubinfeld, D.L. 'Hedonic\n",
      "prices and the demand for clean air', J. Environ. Economics & Management,\n",
      "vol.5, 81-102, 1978.   Used in Belsley, Kuh & Welsch, 'Regression diagnostics\n",
      "...', Wiley, 1980.   N.B. Various transformations are used in the table on\n",
      "pages 244-261 of the latter.\n",
      "\n",
      "The Boston house-price data has been used in many machine learning papers that address regression\n",
      "problems.   \n",
      "     \n",
      ".. topic:: References\n",
      "\n",
      "   - Belsley, Kuh & Welsch, 'Regression diagnostics: Identifying Influential Data and Sources of Collinearity', Wiley, 1980. 244-261.\n",
      "   - Quinlan,R. (1993). Combining Instance-Based and Model-Based Learning. In Proceedings on the Tenth International Conference of Machine Learning, 236-243, University of Massachusetts, Amherst. Morgan Kaufmann.\n",
      "\n"
     ]
    }
   ],
   "source": [
    "print(boston.DESCR)"
   ]
  },
  {
   "cell_type": "markdown",
   "metadata": {},
   "source": [
    "However, I found the above descriptions the datasets attributes to be unclear so I read the original source paper to get more detail. My updated decscriptions are included below are based on Table IV in the source paper."
   ]
  },
  {
   "cell_type": "markdown",
   "metadata": {},
   "source": [
    "|Orginal Attribute Name|New Name|Description|Assumed Relationship to Housing Values|\n",
    "|:------------------------|:---------|:-----------|:------------------------------|\n",
    "|CRIM|Crime_Rate|Crime rate by town|Negative|\n",
    "|ZN|%_Large_Plots|Proportion of residential land zoned for large plots|Postive|\n",
    "|INDUS|%_Indus|Proportion of land zoned for industrial use|Negative|\n",
    "|CHAS|By_River|Boolean value for whether the land borders the Charles River|Positive|\n",
    "|NOX|NOX|Nitrogen oxide concentrations in the air|Negative|\n",
    "|RM|Rooms|Average number of rooms in houses|Positive|\n",
    "|AGE|%_Pre_1940|Proporation of houses constructed before 1940. Older housing is of good quality in Boston|Positive|\n",
    "|DIS|Dist_to_Jobs|Weighted distance to places of employment|Positive|\n",
    "|RAD|Highway_Access|Index of accessabilty to highways|Positive|\n",
    "|TAX|Tax|Property Tax rate in the area|Negative|\n",
    "|PTRATIO|PTRatio|Pupil-Teacher ration in the area. Higher values mean more students per teacher|Negative|\n",
    "|B|Blks_per_1000|Proportion of the population that are black. Regarded as undisirable by Whites|Negative|\n",
    "|LSTAT|%_Lower_Status|Proportion of adults without a high school education or male laborers|Negative|"
   ]
  },
  {
   "cell_type": "markdown",
   "metadata": {},
   "source": [
    "### Adding more readable column names"
   ]
  },
  {
   "cell_type": "code",
   "execution_count": 6,
   "metadata": {},
   "outputs": [],
   "source": [
    "#setting columns names\n",
    "df.columns = [\"Crime_Rate\", \"%_Large_Plots\", \"%_Indus\", \"By_River\", \"NOX\", \"Rooms\", \"%_Pre_1940\", \"Dist_to_Jobs\", \"Highway_Access\", \"Tax\", \"PTRatio\", \"Blks_per_1000\", \"%_Lower_Status\", \"Median_Val\"]"
   ]
  },
  {
   "cell_type": "code",
   "execution_count": 7,
   "metadata": {},
   "outputs": [
    {
     "data": {
      "text/html": [
       "<div>\n",
       "<style scoped>\n",
       "    .dataframe tbody tr th:only-of-type {\n",
       "        vertical-align: middle;\n",
       "    }\n",
       "\n",
       "    .dataframe tbody tr th {\n",
       "        vertical-align: top;\n",
       "    }\n",
       "\n",
       "    .dataframe thead th {\n",
       "        text-align: right;\n",
       "    }\n",
       "</style>\n",
       "<table border=\"1\" class=\"dataframe\">\n",
       "  <thead>\n",
       "    <tr style=\"text-align: right;\">\n",
       "      <th></th>\n",
       "      <th>Crime_Rate</th>\n",
       "      <th>%_Large_Plots</th>\n",
       "      <th>%_Indus</th>\n",
       "      <th>By_River</th>\n",
       "      <th>NOX</th>\n",
       "      <th>Rooms</th>\n",
       "      <th>%_Pre_1940</th>\n",
       "      <th>Dist_to_Jobs</th>\n",
       "      <th>Highway_Access</th>\n",
       "      <th>Tax</th>\n",
       "      <th>PTRatio</th>\n",
       "      <th>Blks_per_1000</th>\n",
       "      <th>%_Lower_Status</th>\n",
       "      <th>Median_Val</th>\n",
       "    </tr>\n",
       "  </thead>\n",
       "  <tbody>\n",
       "    <tr>\n",
       "      <th>0</th>\n",
       "      <td>0.00632</td>\n",
       "      <td>18.0</td>\n",
       "      <td>2.31</td>\n",
       "      <td>0.0</td>\n",
       "      <td>0.538</td>\n",
       "      <td>6.575</td>\n",
       "      <td>65.2</td>\n",
       "      <td>4.0900</td>\n",
       "      <td>1.0</td>\n",
       "      <td>296.0</td>\n",
       "      <td>15.3</td>\n",
       "      <td>396.90</td>\n",
       "      <td>4.98</td>\n",
       "      <td>24.0</td>\n",
       "    </tr>\n",
       "    <tr>\n",
       "      <th>1</th>\n",
       "      <td>0.02731</td>\n",
       "      <td>0.0</td>\n",
       "      <td>7.07</td>\n",
       "      <td>0.0</td>\n",
       "      <td>0.469</td>\n",
       "      <td>6.421</td>\n",
       "      <td>78.9</td>\n",
       "      <td>4.9671</td>\n",
       "      <td>2.0</td>\n",
       "      <td>242.0</td>\n",
       "      <td>17.8</td>\n",
       "      <td>396.90</td>\n",
       "      <td>9.14</td>\n",
       "      <td>21.6</td>\n",
       "    </tr>\n",
       "    <tr>\n",
       "      <th>2</th>\n",
       "      <td>0.02729</td>\n",
       "      <td>0.0</td>\n",
       "      <td>7.07</td>\n",
       "      <td>0.0</td>\n",
       "      <td>0.469</td>\n",
       "      <td>7.185</td>\n",
       "      <td>61.1</td>\n",
       "      <td>4.9671</td>\n",
       "      <td>2.0</td>\n",
       "      <td>242.0</td>\n",
       "      <td>17.8</td>\n",
       "      <td>392.83</td>\n",
       "      <td>4.03</td>\n",
       "      <td>34.7</td>\n",
       "    </tr>\n",
       "    <tr>\n",
       "      <th>3</th>\n",
       "      <td>0.03237</td>\n",
       "      <td>0.0</td>\n",
       "      <td>2.18</td>\n",
       "      <td>0.0</td>\n",
       "      <td>0.458</td>\n",
       "      <td>6.998</td>\n",
       "      <td>45.8</td>\n",
       "      <td>6.0622</td>\n",
       "      <td>3.0</td>\n",
       "      <td>222.0</td>\n",
       "      <td>18.7</td>\n",
       "      <td>394.63</td>\n",
       "      <td>2.94</td>\n",
       "      <td>33.4</td>\n",
       "    </tr>\n",
       "    <tr>\n",
       "      <th>4</th>\n",
       "      <td>0.06905</td>\n",
       "      <td>0.0</td>\n",
       "      <td>2.18</td>\n",
       "      <td>0.0</td>\n",
       "      <td>0.458</td>\n",
       "      <td>7.147</td>\n",
       "      <td>54.2</td>\n",
       "      <td>6.0622</td>\n",
       "      <td>3.0</td>\n",
       "      <td>222.0</td>\n",
       "      <td>18.7</td>\n",
       "      <td>396.90</td>\n",
       "      <td>5.33</td>\n",
       "      <td>36.2</td>\n",
       "    </tr>\n",
       "  </tbody>\n",
       "</table>\n",
       "</div>"
      ],
      "text/plain": [
       "   Crime_Rate  %_Large_Plots  %_Indus  By_River    NOX  Rooms  %_Pre_1940  \\\n",
       "0     0.00632           18.0     2.31       0.0  0.538  6.575        65.2   \n",
       "1     0.02731            0.0     7.07       0.0  0.469  6.421        78.9   \n",
       "2     0.02729            0.0     7.07       0.0  0.469  7.185        61.1   \n",
       "3     0.03237            0.0     2.18       0.0  0.458  6.998        45.8   \n",
       "4     0.06905            0.0     2.18       0.0  0.458  7.147        54.2   \n",
       "\n",
       "   Dist_to_Jobs  Highway_Access    Tax  PTRatio  Blks_per_1000  \\\n",
       "0        4.0900             1.0  296.0     15.3         396.90   \n",
       "1        4.9671             2.0  242.0     17.8         396.90   \n",
       "2        4.9671             2.0  242.0     17.8         392.83   \n",
       "3        6.0622             3.0  222.0     18.7         394.63   \n",
       "4        6.0622             3.0  222.0     18.7         396.90   \n",
       "\n",
       "   %_Lower_Status  Median_Val  \n",
       "0            4.98        24.0  \n",
       "1            9.14        21.6  \n",
       "2            4.03        34.7  \n",
       "3            2.94        33.4  \n",
       "4            5.33        36.2  "
      ]
     },
     "execution_count": 7,
     "metadata": {},
     "output_type": "execute_result"
    }
   ],
   "source": [
    "#checking the new column names line up \n",
    "df.head()"
   ]
  },
  {
   "cell_type": "code",
   "execution_count": 8,
   "metadata": {},
   "outputs": [
    {
     "data": {
      "text/html": [
       "<div>\n",
       "<style scoped>\n",
       "    .dataframe tbody tr th:only-of-type {\n",
       "        vertical-align: middle;\n",
       "    }\n",
       "\n",
       "    .dataframe tbody tr th {\n",
       "        vertical-align: top;\n",
       "    }\n",
       "\n",
       "    .dataframe thead th {\n",
       "        text-align: right;\n",
       "    }\n",
       "</style>\n",
       "<table border=\"1\" class=\"dataframe\">\n",
       "  <thead>\n",
       "    <tr style=\"text-align: right;\">\n",
       "      <th></th>\n",
       "      <th>Crime_Rate</th>\n",
       "      <th>%_Large_Plots</th>\n",
       "      <th>%_Indus</th>\n",
       "      <th>By_River</th>\n",
       "      <th>NOX</th>\n",
       "      <th>Rooms</th>\n",
       "      <th>%_Pre_1940</th>\n",
       "      <th>Dist_to_Jobs</th>\n",
       "      <th>Highway_Access</th>\n",
       "      <th>Tax</th>\n",
       "      <th>PTRatio</th>\n",
       "      <th>Blks_per_1000</th>\n",
       "      <th>%_Lower_Status</th>\n",
       "      <th>Median_Val</th>\n",
       "    </tr>\n",
       "  </thead>\n",
       "  <tbody>\n",
       "    <tr>\n",
       "      <th>501</th>\n",
       "      <td>0.06263</td>\n",
       "      <td>0.0</td>\n",
       "      <td>11.93</td>\n",
       "      <td>0.0</td>\n",
       "      <td>0.573</td>\n",
       "      <td>6.593</td>\n",
       "      <td>69.1</td>\n",
       "      <td>2.4786</td>\n",
       "      <td>1.0</td>\n",
       "      <td>273.0</td>\n",
       "      <td>21.0</td>\n",
       "      <td>391.99</td>\n",
       "      <td>9.67</td>\n",
       "      <td>22.4</td>\n",
       "    </tr>\n",
       "    <tr>\n",
       "      <th>502</th>\n",
       "      <td>0.04527</td>\n",
       "      <td>0.0</td>\n",
       "      <td>11.93</td>\n",
       "      <td>0.0</td>\n",
       "      <td>0.573</td>\n",
       "      <td>6.120</td>\n",
       "      <td>76.7</td>\n",
       "      <td>2.2875</td>\n",
       "      <td>1.0</td>\n",
       "      <td>273.0</td>\n",
       "      <td>21.0</td>\n",
       "      <td>396.90</td>\n",
       "      <td>9.08</td>\n",
       "      <td>20.6</td>\n",
       "    </tr>\n",
       "    <tr>\n",
       "      <th>503</th>\n",
       "      <td>0.06076</td>\n",
       "      <td>0.0</td>\n",
       "      <td>11.93</td>\n",
       "      <td>0.0</td>\n",
       "      <td>0.573</td>\n",
       "      <td>6.976</td>\n",
       "      <td>91.0</td>\n",
       "      <td>2.1675</td>\n",
       "      <td>1.0</td>\n",
       "      <td>273.0</td>\n",
       "      <td>21.0</td>\n",
       "      <td>396.90</td>\n",
       "      <td>5.64</td>\n",
       "      <td>23.9</td>\n",
       "    </tr>\n",
       "    <tr>\n",
       "      <th>504</th>\n",
       "      <td>0.10959</td>\n",
       "      <td>0.0</td>\n",
       "      <td>11.93</td>\n",
       "      <td>0.0</td>\n",
       "      <td>0.573</td>\n",
       "      <td>6.794</td>\n",
       "      <td>89.3</td>\n",
       "      <td>2.3889</td>\n",
       "      <td>1.0</td>\n",
       "      <td>273.0</td>\n",
       "      <td>21.0</td>\n",
       "      <td>393.45</td>\n",
       "      <td>6.48</td>\n",
       "      <td>22.0</td>\n",
       "    </tr>\n",
       "    <tr>\n",
       "      <th>505</th>\n",
       "      <td>0.04741</td>\n",
       "      <td>0.0</td>\n",
       "      <td>11.93</td>\n",
       "      <td>0.0</td>\n",
       "      <td>0.573</td>\n",
       "      <td>6.030</td>\n",
       "      <td>80.8</td>\n",
       "      <td>2.5050</td>\n",
       "      <td>1.0</td>\n",
       "      <td>273.0</td>\n",
       "      <td>21.0</td>\n",
       "      <td>396.90</td>\n",
       "      <td>7.88</td>\n",
       "      <td>11.9</td>\n",
       "    </tr>\n",
       "  </tbody>\n",
       "</table>\n",
       "</div>"
      ],
      "text/plain": [
       "     Crime_Rate  %_Large_Plots  %_Indus  By_River    NOX  Rooms  %_Pre_1940  \\\n",
       "501     0.06263            0.0    11.93       0.0  0.573  6.593        69.1   \n",
       "502     0.04527            0.0    11.93       0.0  0.573  6.120        76.7   \n",
       "503     0.06076            0.0    11.93       0.0  0.573  6.976        91.0   \n",
       "504     0.10959            0.0    11.93       0.0  0.573  6.794        89.3   \n",
       "505     0.04741            0.0    11.93       0.0  0.573  6.030        80.8   \n",
       "\n",
       "     Dist_to_Jobs  Highway_Access    Tax  PTRatio  Blks_per_1000  \\\n",
       "501        2.4786             1.0  273.0     21.0         391.99   \n",
       "502        2.2875             1.0  273.0     21.0         396.90   \n",
       "503        2.1675             1.0  273.0     21.0         396.90   \n",
       "504        2.3889             1.0  273.0     21.0         393.45   \n",
       "505        2.5050             1.0  273.0     21.0         396.90   \n",
       "\n",
       "     %_Lower_Status  Median_Val  \n",
       "501            9.67        22.4  \n",
       "502            9.08        20.6  \n",
       "503            5.64        23.9  \n",
       "504            6.48        22.0  \n",
       "505            7.88        11.9  "
      ]
     },
     "execution_count": 8,
     "metadata": {},
     "output_type": "execute_result"
    }
   ],
   "source": [
    "df.tail()"
   ]
  },
  {
   "cell_type": "code",
   "execution_count": 9,
   "metadata": {},
   "outputs": [
    {
     "data": {
      "text/plain": [
       "Index(['Crime_Rate', '%_Large_Plots', '%_Indus', 'By_River', 'NOX', 'Rooms',\n",
       "       '%_Pre_1940', 'Dist_to_Jobs', 'Highway_Access', 'Tax', 'PTRatio',\n",
       "       'Blks_per_1000', '%_Lower_Status', 'Median_Val'],\n",
       "      dtype='object')"
      ]
     },
     "execution_count": 9,
     "metadata": {},
     "output_type": "execute_result"
    }
   ],
   "source": [
    "df.columns"
   ]
  },
  {
   "cell_type": "markdown",
   "metadata": {},
   "source": [
    "# 2. Descriptive Analysis"
   ]
  },
  {
   "cell_type": "code",
   "execution_count": 10,
   "metadata": {},
   "outputs": [
    {
     "name": "stdout",
     "output_type": "stream",
     "text": [
      "<class 'pandas.core.frame.DataFrame'>\n",
      "RangeIndex: 506 entries, 0 to 505\n",
      "Data columns (total 14 columns):\n",
      "Crime_Rate        506 non-null float64\n",
      "%_Large_Plots     506 non-null float64\n",
      "%_Indus           506 non-null float64\n",
      "By_River          506 non-null float64\n",
      "NOX               506 non-null float64\n",
      "Rooms             506 non-null float64\n",
      "%_Pre_1940        506 non-null float64\n",
      "Dist_to_Jobs      506 non-null float64\n",
      "Highway_Access    506 non-null float64\n",
      "Tax               506 non-null float64\n",
      "PTRatio           506 non-null float64\n",
      "Blks_per_1000     506 non-null float64\n",
      "%_Lower_Status    506 non-null float64\n",
      "Median_Val        506 non-null float64\n",
      "dtypes: float64(14)\n",
      "memory usage: 55.5 KB\n"
     ]
    }
   ],
   "source": [
    "df.info()"
   ]
  },
  {
   "cell_type": "markdown",
   "metadata": {},
   "source": [
    "#### Distribution of values"
   ]
  },
  {
   "cell_type": "code",
   "execution_count": 11,
   "metadata": {
    "scrolled": false
   },
   "outputs": [
    {
     "data": {
      "text/plain": [
       "<matplotlib.axes._subplots.AxesSubplot at 0x1e5635704a8>"
      ]
     },
     "execution_count": 11,
     "metadata": {},
     "output_type": "execute_result"
    },
    {
     "data": {
      "image/png": "[encoded data removed]",
      "text/plain": [
       "<Figure size 432x288 with 1 Axes>"
      ]
     },
     "metadata": {
      "needs_background": "light"
     },
     "output_type": "display_data"
    }
   ],
   "source": [
    "sns.kdeplot(df['Median_Val'])"
   ]
  },
  {
   "cell_type": "code",
   "execution_count": 12,
   "metadata": {
    "scrolled": false
   },
   "outputs": [
    {
     "data": {
      "text/plain": [
       "<matplotlib.axes._subplots.AxesSubplot at 0x1e5638a1a20>"
      ]
     },
     "execution_count": 12,
     "metadata": {},
     "output_type": "execute_result"
    },
    {
     "data": {
      "image/png": "[encoded data removed]",
      "text/plain": [
       "<Figure size 432x288 with 1 Axes>"
      ]
     },
     "metadata": {
      "needs_background": "light"
     },
     "output_type": "display_data"
    }
   ],
   "source": [
    "sns.boxplot(df['Median_Val'])"
   ]
  },
  {
   "cell_type": "code",
   "execution_count": 13,
   "metadata": {
    "scrolled": true
   },
   "outputs": [
    {
     "data": {
      "text/html": [
       "<div>\n",
       "<style scoped>\n",
       "    .dataframe tbody tr th:only-of-type {\n",
       "        vertical-align: middle;\n",
       "    }\n",
       "\n",
       "    .dataframe tbody tr th {\n",
       "        vertical-align: top;\n",
       "    }\n",
       "\n",
       "    .dataframe thead th {\n",
       "        text-align: right;\n",
       "    }\n",
       "</style>\n",
       "<table border=\"1\" class=\"dataframe\">\n",
       "  <thead>\n",
       "    <tr style=\"text-align: right;\">\n",
       "      <th></th>\n",
       "      <th>Crime_Rate</th>\n",
       "      <th>%_Large_Plots</th>\n",
       "      <th>%_Indus</th>\n",
       "      <th>By_River</th>\n",
       "      <th>NOX</th>\n",
       "      <th>Rooms</th>\n",
       "      <th>%_Pre_1940</th>\n",
       "      <th>Dist_to_Jobs</th>\n",
       "      <th>Highway_Access</th>\n",
       "      <th>Tax</th>\n",
       "      <th>PTRatio</th>\n",
       "      <th>Blks_per_1000</th>\n",
       "      <th>%_Lower_Status</th>\n",
       "      <th>Median_Val</th>\n",
       "    </tr>\n",
       "  </thead>\n",
       "  <tbody>\n",
       "    <tr>\n",
       "      <th>count</th>\n",
       "      <td>506.000000</td>\n",
       "      <td>506.000000</td>\n",
       "      <td>506.000000</td>\n",
       "      <td>506.000000</td>\n",
       "      <td>506.000000</td>\n",
       "      <td>506.000000</td>\n",
       "      <td>506.000000</td>\n",
       "      <td>506.000000</td>\n",
       "      <td>506.000000</td>\n",
       "      <td>506.000000</td>\n",
       "      <td>506.000000</td>\n",
       "      <td>506.000000</td>\n",
       "      <td>506.000000</td>\n",
       "      <td>506.000000</td>\n",
       "    </tr>\n",
       "    <tr>\n",
       "      <th>mean</th>\n",
       "      <td>3.613524</td>\n",
       "      <td>11.363636</td>\n",
       "      <td>11.136779</td>\n",
       "      <td>0.069170</td>\n",
       "      <td>0.554695</td>\n",
       "      <td>6.284634</td>\n",
       "      <td>68.574901</td>\n",
       "      <td>3.795043</td>\n",
       "      <td>9.549407</td>\n",
       "      <td>408.237154</td>\n",
       "      <td>18.455534</td>\n",
       "      <td>356.674032</td>\n",
       "      <td>12.653063</td>\n",
       "      <td>22.532806</td>\n",
       "    </tr>\n",
       "    <tr>\n",
       "      <th>std</th>\n",
       "      <td>8.601545</td>\n",
       "      <td>23.322453</td>\n",
       "      <td>6.860353</td>\n",
       "      <td>0.253994</td>\n",
       "      <td>0.115878</td>\n",
       "      <td>0.702617</td>\n",
       "      <td>28.148861</td>\n",
       "      <td>2.105710</td>\n",
       "      <td>8.707259</td>\n",
       "      <td>168.537116</td>\n",
       "      <td>2.164946</td>\n",
       "      <td>91.294864</td>\n",
       "      <td>7.141062</td>\n",
       "      <td>9.197104</td>\n",
       "    </tr>\n",
       "    <tr>\n",
       "      <th>min</th>\n",
       "      <td>0.006320</td>\n",
       "      <td>0.000000</td>\n",
       "      <td>0.460000</td>\n",
       "      <td>0.000000</td>\n",
       "      <td>0.385000</td>\n",
       "      <td>3.561000</td>\n",
       "      <td>2.900000</td>\n",
       "      <td>1.129600</td>\n",
       "      <td>1.000000</td>\n",
       "      <td>187.000000</td>\n",
       "      <td>12.600000</td>\n",
       "      <td>0.320000</td>\n",
       "      <td>1.730000</td>\n",
       "      <td>5.000000</td>\n",
       "    </tr>\n",
       "    <tr>\n",
       "      <th>25%</th>\n",
       "      <td>0.082045</td>\n",
       "      <td>0.000000</td>\n",
       "      <td>5.190000</td>\n",
       "      <td>0.000000</td>\n",
       "      <td>0.449000</td>\n",
       "      <td>5.885500</td>\n",
       "      <td>45.025000</td>\n",
       "      <td>2.100175</td>\n",
       "      <td>4.000000</td>\n",
       "      <td>279.000000</td>\n",
       "      <td>17.400000</td>\n",
       "      <td>375.377500</td>\n",
       "      <td>6.950000</td>\n",
       "      <td>17.025000</td>\n",
       "    </tr>\n",
       "    <tr>\n",
       "      <th>50%</th>\n",
       "      <td>0.256510</td>\n",
       "      <td>0.000000</td>\n",
       "      <td>9.690000</td>\n",
       "      <td>0.000000</td>\n",
       "      <td>0.538000</td>\n",
       "      <td>6.208500</td>\n",
       "      <td>77.500000</td>\n",
       "      <td>3.207450</td>\n",
       "      <td>5.000000</td>\n",
       "      <td>330.000000</td>\n",
       "      <td>19.050000</td>\n",
       "      <td>391.440000</td>\n",
       "      <td>11.360000</td>\n",
       "      <td>21.200000</td>\n",
       "    </tr>\n",
       "    <tr>\n",
       "      <th>75%</th>\n",
       "      <td>3.677083</td>\n",
       "      <td>12.500000</td>\n",
       "      <td>18.100000</td>\n",
       "      <td>0.000000</td>\n",
       "      <td>0.624000</td>\n",
       "      <td>6.623500</td>\n",
       "      <td>94.075000</td>\n",
       "      <td>5.188425</td>\n",
       "      <td>24.000000</td>\n",
       "      <td>666.000000</td>\n",
       "      <td>20.200000</td>\n",
       "      <td>396.225000</td>\n",
       "      <td>16.955000</td>\n",
       "      <td>25.000000</td>\n",
       "    </tr>\n",
       "    <tr>\n",
       "      <th>max</th>\n",
       "      <td>88.976200</td>\n",
       "      <td>100.000000</td>\n",
       "      <td>27.740000</td>\n",
       "      <td>1.000000</td>\n",
       "      <td>0.871000</td>\n",
       "      <td>8.780000</td>\n",
       "      <td>100.000000</td>\n",
       "      <td>12.126500</td>\n",
       "      <td>24.000000</td>\n",
       "      <td>711.000000</td>\n",
       "      <td>22.000000</td>\n",
       "      <td>396.900000</td>\n",
       "      <td>37.970000</td>\n",
       "      <td>50.000000</td>\n",
       "    </tr>\n",
       "  </tbody>\n",
       "</table>\n",
       "</div>"
      ],
      "text/plain": [
       "       Crime_Rate  %_Large_Plots     %_Indus    By_River         NOX  \\\n",
       "count  506.000000     506.000000  506.000000  506.000000  506.000000   \n",
       "mean     3.613524      11.363636   11.136779    0.069170    0.554695   \n",
       "std      8.601545      23.322453    6.860353    0.253994    0.115878   \n",
       "min      0.006320       0.000000    0.460000    0.000000    0.385000   \n",
       "25%      0.082045       0.000000    5.190000    0.000000    0.449000   \n",
       "50%      0.256510       0.000000    9.690000    0.000000    0.538000   \n",
       "75%      3.677083      12.500000   18.100000    0.000000    0.624000   \n",
       "max     88.976200     100.000000   27.740000    1.000000    0.871000   \n",
       "\n",
       "            Rooms  %_Pre_1940  Dist_to_Jobs  Highway_Access         Tax  \\\n",
       "count  506.000000  506.000000    506.000000      506.000000  506.000000   \n",
       "mean     6.284634   68.574901      3.795043        9.549407  408.237154   \n",
       "std      0.702617   28.148861      2.105710        8.707259  168.537116   \n",
       "min      3.561000    2.900000      1.129600        1.000000  187.000000   \n",
       "25%      5.885500   45.025000      2.100175        4.000000  279.000000   \n",
       "50%      6.208500   77.500000      3.207450        5.000000  330.000000   \n",
       "75%      6.623500   94.075000      5.188425       24.000000  666.000000   \n",
       "max      8.780000  100.000000     12.126500       24.000000  711.000000   \n",
       "\n",
       "          PTRatio  Blks_per_1000  %_Lower_Status  Median_Val  \n",
       "count  506.000000     506.000000      506.000000  506.000000  \n",
       "mean    18.455534     356.674032       12.653063   22.532806  \n",
       "std      2.164946      91.294864        7.141062    9.197104  \n",
       "min     12.600000       0.320000        1.730000    5.000000  \n",
       "25%     17.400000     375.377500        6.950000   17.025000  \n",
       "50%     19.050000     391.440000       11.360000   21.200000  \n",
       "75%     20.200000     396.225000       16.955000   25.000000  \n",
       "max     22.000000     396.900000       37.970000   50.000000  "
      ]
     },
     "execution_count": 13,
     "metadata": {},
     "output_type": "execute_result"
    }
   ],
   "source": [
    "df.describe()"
   ]
  },
  {
   "cell_type": "markdown",
   "metadata": {},
   "source": [
    "There are lots of outliers in the upper range of values"
   ]
  },
  {
   "cell_type": "markdown",
   "metadata": {},
   "source": [
    "### Note look at this article \n",
    "https://www.ritchieng.com/machine-learning-project-boston-home-prices/\n",
    "\n",
    "Good examples of data exoplorations and statistics on pricing \n",
    "And linear regression later on."
   ]
  },
  {
   "cell_type": "markdown",
   "metadata": {},
   "source": [
    "Creating a corrolation matrix to see if there is any relationship betweek the variables."
   ]
  },
  {
   "cell_type": "code",
   "execution_count": 14,
   "metadata": {
    "scrolled": true
   },
   "outputs": [
    {
     "data": {
      "text/html": [
       "<style  type=\"text/css\" >\n",
       "    #T_6650b8ee_fb48_11e9_8278_64006aff10a6row0_col0 {\n",
       "            background-color:  #b40426;\n",
       "            color:  #f1f1f1;\n",
       "        }    #T_6650b8ee_fb48_11e9_8278_64006aff10a6row0_col1 {\n",
       "            background-color:  #88abfd;\n",
       "            color:  #000000;\n",
       "        }    #T_6650b8ee_fb48_11e9_8278_64006aff10a6row0_col2 {\n",
       "            background-color:  #f7bca1;\n",
       "            color:  #000000;\n",
       "        }    #T_6650b8ee_fb48_11e9_8278_64006aff10a6row0_col3 {\n",
       "            background-color:  #4a63d3;\n",
       "            color:  #f1f1f1;\n",
       "        }    #T_6650b8ee_fb48_11e9_8278_64006aff10a6row0_col4 {\n",
       "            background-color:  #f7b599;\n",
       "            color:  #000000;\n",
       "        }    #T_6650b8ee_fb48_11e9_8278_64006aff10a6row0_col5 {\n",
       "            background-color:  #8badfd;\n",
       "            color:  #000000;\n",
       "        }    #T_6650b8ee_fb48_11e9_8278_64006aff10a6row0_col6 {\n",
       "            background-color:  #f5c4ac;\n",
       "            color:  #000000;\n",
       "        }    #T_6650b8ee_fb48_11e9_8278_64006aff10a6row0_col7 {\n",
       "            background-color:  #82a6fb;\n",
       "            color:  #000000;\n",
       "        }    #T_6650b8ee_fb48_11e9_8278_64006aff10a6row0_col8 {\n",
       "            background-color:  #f4987a;\n",
       "            color:  #000000;\n",
       "        }    #T_6650b8ee_fb48_11e9_8278_64006aff10a6row0_col9 {\n",
       "            background-color:  #f6a385;\n",
       "            color:  #000000;\n",
       "        }    #T_6650b8ee_fb48_11e9_8278_64006aff10a6row0_col10 {\n",
       "            background-color:  #e4d9d2;\n",
       "            color:  #000000;\n",
       "        }    #T_6650b8ee_fb48_11e9_8278_64006aff10a6row0_col11 {\n",
       "            background-color:  #445acc;\n",
       "            color:  #f1f1f1;\n",
       "        }    #T_6650b8ee_fb48_11e9_8278_64006aff10a6row0_col12 {\n",
       "            background-color:  #f7b093;\n",
       "            color:  #000000;\n",
       "        }    #T_6650b8ee_fb48_11e9_8278_64006aff10a6row0_col13 {\n",
       "            background-color:  #7b9ff9;\n",
       "            color:  #000000;\n",
       "        }    #T_6650b8ee_fb48_11e9_8278_64006aff10a6row1_col0 {\n",
       "            background-color:  #6485ec;\n",
       "            color:  #000000;\n",
       "        }    #T_6650b8ee_fb48_11e9_8278_64006aff10a6row1_col1 {\n",
       "            background-color:  #b40426;\n",
       "            color:  #f1f1f1;\n",
       "        }    #T_6650b8ee_fb48_11e9_8278_64006aff10a6row1_col2 {\n",
       "            background-color:  #5a78e4;\n",
       "            color:  #000000;\n",
       "        }    #T_6650b8ee_fb48_11e9_8278_64006aff10a6row1_col3 {\n",
       "            background-color:  #506bda;\n",
       "            color:  #000000;\n",
       "        }    #T_6650b8ee_fb48_11e9_8278_64006aff10a6row1_col4 {\n",
       "            background-color:  #6788ee;\n",
       "            color:  #000000;\n",
       "        }    #T_6650b8ee_fb48_11e9_8278_64006aff10a6row1_col5 {\n",
       "            background-color:  #edd1c2;\n",
       "            color:  #000000;\n",
       "        }    #T_6650b8ee_fb48_11e9_8278_64006aff10a6row1_col6 {\n",
       "            background-color:  #5a78e4;\n",
       "            color:  #000000;\n",
       "        }    #T_6650b8ee_fb48_11e9_8278_64006aff10a6row1_col7 {\n",
       "            background-color:  #ec8165;\n",
       "            color:  #000000;\n",
       "        }    #T_6650b8ee_fb48_11e9_8278_64006aff10a6row1_col8 {\n",
       "            background-color:  #5f7fe8;\n",
       "            color:  #000000;\n",
       "        }    #T_6650b8ee_fb48_11e9_8278_64006aff10a6row1_col9 {\n",
       "            background-color:  #6788ee;\n",
       "            color:  #000000;\n",
       "        }    #T_6650b8ee_fb48_11e9_8278_64006aff10a6row1_col10 {\n",
       "            background-color:  #536edd;\n",
       "            color:  #000000;\n",
       "        }    #T_6650b8ee_fb48_11e9_8278_64006aff10a6row1_col11 {\n",
       "            background-color:  #cad8ef;\n",
       "            color:  #000000;\n",
       "        }    #T_6650b8ee_fb48_11e9_8278_64006aff10a6row1_col12 {\n",
       "            background-color:  #779af7;\n",
       "            color:  #000000;\n",
       "        }    #T_6650b8ee_fb48_11e9_8278_64006aff10a6row1_col13 {\n",
       "            background-color:  #f5c2aa;\n",
       "            color:  #000000;\n",
       "        }    #T_6650b8ee_fb48_11e9_8278_64006aff10a6row2_col0 {\n",
       "            background-color:  #eed0c0;\n",
       "            color:  #000000;\n",
       "        }    #T_6650b8ee_fb48_11e9_8278_64006aff10a6row2_col1 {\n",
       "            background-color:  #4257c9;\n",
       "            color:  #f1f1f1;\n",
       "        }    #T_6650b8ee_fb48_11e9_8278_64006aff10a6row2_col2 {\n",
       "            background-color:  #b40426;\n",
       "            color:  #f1f1f1;\n",
       "        }    #T_6650b8ee_fb48_11e9_8278_64006aff10a6row2_col3 {\n",
       "            background-color:  #6e90f2;\n",
       "            color:  #000000;\n",
       "        }    #T_6650b8ee_fb48_11e9_8278_64006aff10a6row2_col4 {\n",
       "            background-color:  #e0654f;\n",
       "            color:  #000000;\n",
       "        }    #T_6650b8ee_fb48_11e9_8278_64006aff10a6row2_col5 {\n",
       "            background-color:  #6485ec;\n",
       "            color:  #000000;\n",
       "        }    #T_6650b8ee_fb48_11e9_8278_64006aff10a6row2_col6 {\n",
       "            background-color:  #ee8669;\n",
       "            color:  #000000;\n",
       "        }    #T_6650b8ee_fb48_11e9_8278_64006aff10a6row2_col7 {\n",
       "            background-color:  #445acc;\n",
       "            color:  #f1f1f1;\n",
       "        }    #T_6650b8ee_fb48_11e9_8278_64006aff10a6row2_col8 {\n",
       "            background-color:  #f5a081;\n",
       "            color:  #000000;\n",
       "        }    #T_6650b8ee_fb48_11e9_8278_64006aff10a6row2_col9 {\n",
       "            background-color:  #ea7b60;\n",
       "            color:  #000000;\n",
       "        }    #T_6650b8ee_fb48_11e9_8278_64006aff10a6row2_col10 {\n",
       "            background-color:  #f0cdbb;\n",
       "            color:  #000000;\n",
       "        }    #T_6650b8ee_fb48_11e9_8278_64006aff10a6row2_col11 {\n",
       "            background-color:  #4b64d5;\n",
       "            color:  #f1f1f1;\n",
       "        }    #T_6650b8ee_fb48_11e9_8278_64006aff10a6row2_col12 {\n",
       "            background-color:  #f29072;\n",
       "            color:  #000000;\n",
       "        }    #T_6650b8ee_fb48_11e9_8278_64006aff10a6row2_col13 {\n",
       "            background-color:  #6a8bef;\n",
       "            color:  #000000;\n",
       "        }    #T_6650b8ee_fb48_11e9_8278_64006aff10a6row3_col0 {\n",
       "            background-color:  #88abfd;\n",
       "            color:  #000000;\n",
       "        }    #T_6650b8ee_fb48_11e9_8278_64006aff10a6row3_col1 {\n",
       "            background-color:  #abc8fd;\n",
       "            color:  #000000;\n",
       "        }    #T_6650b8ee_fb48_11e9_8278_64006aff10a6row3_col2 {\n",
       "            background-color:  #cfdaea;\n",
       "            color:  #000000;\n",
       "        }    #T_6650b8ee_fb48_11e9_8278_64006aff10a6row3_col3 {\n",
       "            background-color:  #b40426;\n",
       "            color:  #f1f1f1;\n",
       "        }    #T_6650b8ee_fb48_11e9_8278_64006aff10a6row3_col4 {\n",
       "            background-color:  #d9dce1;\n",
       "            color:  #000000;\n",
       "        }    #T_6650b8ee_fb48_11e9_8278_64006aff10a6row3_col5 {\n",
       "            background-color:  #cbd8ee;\n",
       "            color:  #000000;\n",
       "        }    #T_6650b8ee_fb48_11e9_8278_64006aff10a6row3_col6 {\n",
       "            background-color:  #d7dce3;\n",
       "            color:  #000000;\n",
       "        }    #T_6650b8ee_fb48_11e9_8278_64006aff10a6row3_col7 {\n",
       "            background-color:  #b9d0f9;\n",
       "            color:  #000000;\n",
       "        }    #T_6650b8ee_fb48_11e9_8278_64006aff10a6row3_col8 {\n",
       "            background-color:  #a6c4fe;\n",
       "            color:  #000000;\n",
       "        }    #T_6650b8ee_fb48_11e9_8278_64006aff10a6row3_col9 {\n",
       "            background-color:  #a5c3fe;\n",
       "            color:  #000000;\n",
       "        }    #T_6650b8ee_fb48_11e9_8278_64006aff10a6row3_col10 {\n",
       "            background-color:  #90b2fe;\n",
       "            color:  #000000;\n",
       "        }    #T_6650b8ee_fb48_11e9_8278_64006aff10a6row3_col11 {\n",
       "            background-color:  #adc9fd;\n",
       "            color:  #000000;\n",
       "        }    #T_6650b8ee_fb48_11e9_8278_64006aff10a6row3_col12 {\n",
       "            background-color:  #bfd3f6;\n",
       "            color:  #000000;\n",
       "        }    #T_6650b8ee_fb48_11e9_8278_64006aff10a6row3_col13 {\n",
       "            background-color:  #e4d9d2;\n",
       "            color:  #000000;\n",
       "        }    #T_6650b8ee_fb48_11e9_8278_64006aff10a6row4_col0 {\n",
       "            background-color:  #efcebd;\n",
       "            color:  #000000;\n",
       "        }    #T_6650b8ee_fb48_11e9_8278_64006aff10a6row4_col1 {\n",
       "            background-color:  #445acc;\n",
       "            color:  #f1f1f1;\n",
       "        }    #T_6650b8ee_fb48_11e9_8278_64006aff10a6row4_col2 {\n",
       "            background-color:  #e16751;\n",
       "            color:  #000000;\n",
       "        }    #T_6650b8ee_fb48_11e9_8278_64006aff10a6row4_col3 {\n",
       "            background-color:  #7699f6;\n",
       "            color:  #000000;\n",
       "        }    #T_6650b8ee_fb48_11e9_8278_64006aff10a6row4_col4 {\n",
       "            background-color:  #b40426;\n",
       "            color:  #f1f1f1;\n",
       "        }    #T_6650b8ee_fb48_11e9_8278_64006aff10a6row4_col5 {\n",
       "            background-color:  #799cf8;\n",
       "            color:  #000000;\n",
       "        }    #T_6650b8ee_fb48_11e9_8278_64006aff10a6row4_col6 {\n",
       "            background-color:  #e46e56;\n",
       "            color:  #000000;\n",
       "        }    #T_6650b8ee_fb48_11e9_8278_64006aff10a6row4_col7 {\n",
       "            background-color:  #3b4cc0;\n",
       "            color:  #f1f1f1;\n",
       "        }    #T_6650b8ee_fb48_11e9_8278_64006aff10a6row4_col8 {\n",
       "            background-color:  #f59f80;\n",
       "            color:  #000000;\n",
       "        }    #T_6650b8ee_fb48_11e9_8278_64006aff10a6row4_col9 {\n",
       "            background-color:  #f08b6e;\n",
       "            color:  #000000;\n",
       "        }    #T_6650b8ee_fb48_11e9_8278_64006aff10a6row4_col10 {\n",
       "            background-color:  #d3dbe7;\n",
       "            color:  #000000;\n",
       "        }    #T_6650b8ee_fb48_11e9_8278_64006aff10a6row4_col11 {\n",
       "            background-color:  #465ecf;\n",
       "            color:  #f1f1f1;\n",
       "        }    #T_6650b8ee_fb48_11e9_8278_64006aff10a6row4_col12 {\n",
       "            background-color:  #f39475;\n",
       "            color:  #000000;\n",
       "        }    #T_6650b8ee_fb48_11e9_8278_64006aff10a6row4_col13 {\n",
       "            background-color:  #7396f5;\n",
       "            color:  #000000;\n",
       "        }    #T_6650b8ee_fb48_11e9_8278_64006aff10a6row5_col0 {\n",
       "            background-color:  #6180e9;\n",
       "            color:  #000000;\n",
       "        }    #T_6650b8ee_fb48_11e9_8278_64006aff10a6row5_col1 {\n",
       "            background-color:  #ebd3c6;\n",
       "            color:  #000000;\n",
       "        }    #T_6650b8ee_fb48_11e9_8278_64006aff10a6row5_col2 {\n",
       "            background-color:  #7699f6;\n",
       "            color:  #000000;\n",
       "        }    #T_6650b8ee_fb48_11e9_8278_64006aff10a6row5_col3 {\n",
       "            background-color:  #7699f6;\n",
       "            color:  #000000;\n",
       "        }    #T_6650b8ee_fb48_11e9_8278_64006aff10a6row5_col4 {\n",
       "            background-color:  #92b4fe;\n",
       "            color:  #000000;\n",
       "        }    #T_6650b8ee_fb48_11e9_8278_64006aff10a6row5_col5 {\n",
       "            background-color:  #b40426;\n",
       "            color:  #f1f1f1;\n",
       "        }    #T_6650b8ee_fb48_11e9_8278_64006aff10a6row5_col6 {\n",
       "            background-color:  #9bbcff;\n",
       "            color:  #000000;\n",
       "        }    #T_6650b8ee_fb48_11e9_8278_64006aff10a6row5_col7 {\n",
       "            background-color:  #ead5c9;\n",
       "            color:  #000000;\n",
       "        }    #T_6650b8ee_fb48_11e9_8278_64006aff10a6row5_col8 {\n",
       "            background-color:  #779af7;\n",
       "            color:  #000000;\n",
       "        }    #T_6650b8ee_fb48_11e9_8278_64006aff10a6row5_col9 {\n",
       "            background-color:  #6c8ff1;\n",
       "            color:  #000000;\n",
       "        }    #T_6650b8ee_fb48_11e9_8278_64006aff10a6row5_col10 {\n",
       "            background-color:  #5977e3;\n",
       "            color:  #000000;\n",
       "        }    #T_6650b8ee_fb48_11e9_8278_64006aff10a6row5_col11 {\n",
       "            background-color:  #bfd3f6;\n",
       "            color:  #000000;\n",
       "        }    #T_6650b8ee_fb48_11e9_8278_64006aff10a6row5_col12 {\n",
       "            background-color:  #516ddb;\n",
       "            color:  #000000;\n",
       "        }    #T_6650b8ee_fb48_11e9_8278_64006aff10a6row5_col13 {\n",
       "            background-color:  #e9785d;\n",
       "            color:  #000000;\n",
       "        }    #T_6650b8ee_fb48_11e9_8278_64006aff10a6row6_col0 {\n",
       "            background-color:  #e5d8d1;\n",
       "            color:  #000000;\n",
       "        }    #T_6650b8ee_fb48_11e9_8278_64006aff10a6row6_col1 {\n",
       "            background-color:  #3b4cc0;\n",
       "            color:  #f1f1f1;\n",
       "        }    #T_6650b8ee_fb48_11e9_8278_64006aff10a6row6_col2 {\n",
       "            background-color:  #ef886b;\n",
       "            color:  #000000;\n",
       "        }    #T_6650b8ee_fb48_11e9_8278_64006aff10a6row6_col3 {\n",
       "            background-color:  #7699f6;\n",
       "            color:  #000000;\n",
       "        }    #T_6650b8ee_fb48_11e9_8278_64006aff10a6row6_col4 {\n",
       "            background-color:  #e46e56;\n",
       "            color:  #000000;\n",
       "        }    #T_6650b8ee_fb48_11e9_8278_64006aff10a6row6_col5 {\n",
       "            background-color:  #85a8fc;\n",
       "            color:  #000000;\n",
       "        }    #T_6650b8ee_fb48_11e9_8278_64006aff10a6row6_col6 {\n",
       "            background-color:  #b40426;\n",
       "            color:  #f1f1f1;\n",
       "        }    #T_6650b8ee_fb48_11e9_8278_64006aff10a6row6_col7 {\n",
       "            background-color:  #3d50c3;\n",
       "            color:  #f1f1f1;\n",
       "        }    #T_6650b8ee_fb48_11e9_8278_64006aff10a6row6_col8 {\n",
       "            background-color:  #f5c0a7;\n",
       "            color:  #000000;\n",
       "        }    #T_6650b8ee_fb48_11e9_8278_64006aff10a6row6_col9 {\n",
       "            background-color:  #f7b396;\n",
       "            color:  #000000;\n",
       "        }    #T_6650b8ee_fb48_11e9_8278_64006aff10a6row6_col10 {\n",
       "            background-color:  #dfdbd9;\n",
       "            color:  #000000;\n",
       "        }    #T_6650b8ee_fb48_11e9_8278_64006aff10a6row6_col11 {\n",
       "            background-color:  #5f7fe8;\n",
       "            color:  #000000;\n",
       "        }    #T_6650b8ee_fb48_11e9_8278_64006aff10a6row6_col12 {\n",
       "            background-color:  #f29072;\n",
       "            color:  #000000;\n",
       "        }    #T_6650b8ee_fb48_11e9_8278_64006aff10a6row6_col13 {\n",
       "            background-color:  #7da0f9;\n",
       "            color:  #000000;\n",
       "        }    #T_6650b8ee_fb48_11e9_8278_64006aff10a6row7_col0 {\n",
       "            background-color:  #3c4ec2;\n",
       "            color:  #f1f1f1;\n",
       "        }    #T_6650b8ee_fb48_11e9_8278_64006aff10a6row7_col1 {\n",
       "            background-color:  #f08b6e;\n",
       "            color:  #000000;\n",
       "        }    #T_6650b8ee_fb48_11e9_8278_64006aff10a6row7_col2 {\n",
       "            background-color:  #3b4cc0;\n",
       "            color:  #f1f1f1;\n",
       "        }    #T_6650b8ee_fb48_11e9_8278_64006aff10a6row7_col3 {\n",
       "            background-color:  #3f53c6;\n",
       "            color:  #f1f1f1;\n",
       "        }    #T_6650b8ee_fb48_11e9_8278_64006aff10a6row7_col4 {\n",
       "            background-color:  #3b4cc0;\n",
       "            color:  #f1f1f1;\n",
       "        }    #T_6650b8ee_fb48_11e9_8278_64006aff10a6row7_col5 {\n",
       "            background-color:  #dfdbd9;\n",
       "            color:  #000000;\n",
       "        }    #T_6650b8ee_fb48_11e9_8278_64006aff10a6row7_col6 {\n",
       "            background-color:  #3b4cc0;\n",
       "            color:  #f1f1f1;\n",
       "        }    #T_6650b8ee_fb48_11e9_8278_64006aff10a6row7_col7 {\n",
       "            background-color:  #b40426;\n",
       "            color:  #f1f1f1;\n",
       "        }    #T_6650b8ee_fb48_11e9_8278_64006aff10a6row7_col8 {\n",
       "            background-color:  #3b4cc0;\n",
       "            color:  #f1f1f1;\n",
       "        }    #T_6650b8ee_fb48_11e9_8278_64006aff10a6row7_col9 {\n",
       "            background-color:  #3b4cc0;\n",
       "            color:  #f1f1f1;\n",
       "        }    #T_6650b8ee_fb48_11e9_8278_64006aff10a6row7_col10 {\n",
       "            background-color:  #7699f6;\n",
       "            color:  #000000;\n",
       "        }    #T_6650b8ee_fb48_11e9_8278_64006aff10a6row7_col11 {\n",
       "            background-color:  #dedcdb;\n",
       "            color:  #000000;\n",
       "        }    #T_6650b8ee_fb48_11e9_8278_64006aff10a6row7_col12 {\n",
       "            background-color:  #6687ed;\n",
       "            color:  #000000;\n",
       "        }    #T_6650b8ee_fb48_11e9_8278_64006aff10a6row7_col13 {\n",
       "            background-color:  #edd2c3;\n",
       "            color:  #000000;\n",
       "        }    #T_6650b8ee_fb48_11e9_8278_64006aff10a6row8_col0 {\n",
       "            background-color:  #f5a081;\n",
       "            color:  #000000;\n",
       "        }    #T_6650b8ee_fb48_11e9_8278_64006aff10a6row8_col1 {\n",
       "            background-color:  #6f92f3;\n",
       "            color:  #000000;\n",
       "        }    #T_6650b8ee_fb48_11e9_8278_64006aff10a6row8_col2 {\n",
       "            background-color:  #f29274;\n",
       "            color:  #000000;\n",
       "        }    #T_6650b8ee_fb48_11e9_8278_64006aff10a6row8_col3 {\n",
       "            background-color:  #5977e3;\n",
       "            color:  #000000;\n",
       "        }    #T_6650b8ee_fb48_11e9_8278_64006aff10a6row8_col4 {\n",
       "            background-color:  #f18d6f;\n",
       "            color:  #000000;\n",
       "        }    #T_6650b8ee_fb48_11e9_8278_64006aff10a6row8_col5 {\n",
       "            background-color:  #8caffe;\n",
       "            color:  #000000;\n",
       "        }    #T_6650b8ee_fb48_11e9_8278_64006aff10a6row8_col6 {\n",
       "            background-color:  #f7af91;\n",
       "            color:  #000000;\n",
       "        }    #T_6650b8ee_fb48_11e9_8278_64006aff10a6row8_col7 {\n",
       "            background-color:  #6c8ff1;\n",
       "            color:  #000000;\n",
       "        }    #T_6650b8ee_fb48_11e9_8278_64006aff10a6row8_col8 {\n",
       "            background-color:  #b40426;\n",
       "            color:  #f1f1f1;\n",
       "        }    #T_6650b8ee_fb48_11e9_8278_64006aff10a6row8_col9 {\n",
       "            background-color:  #ca3b37;\n",
       "            color:  #f1f1f1;\n",
       "        }    #T_6650b8ee_fb48_11e9_8278_64006aff10a6row8_col10 {\n",
       "            background-color:  #f6bfa6;\n",
       "            color:  #000000;\n",
       "        }    #T_6650b8ee_fb48_11e9_8278_64006aff10a6row8_col11 {\n",
       "            background-color:  #3b4cc0;\n",
       "            color:  #f1f1f1;\n",
       "        }    #T_6650b8ee_fb48_11e9_8278_64006aff10a6row8_col12 {\n",
       "            background-color:  #f7aa8c;\n",
       "            color:  #000000;\n",
       "        }    #T_6650b8ee_fb48_11e9_8278_64006aff10a6row8_col13 {\n",
       "            background-color:  #7da0f9;\n",
       "            color:  #000000;\n",
       "        }    #T_6650b8ee_fb48_11e9_8278_64006aff10a6row9_col0 {\n",
       "            background-color:  #f7ad90;\n",
       "            color:  #000000;\n",
       "        }    #T_6650b8ee_fb48_11e9_8278_64006aff10a6row9_col1 {\n",
       "            background-color:  #6f92f3;\n",
       "            color:  #000000;\n",
       "        }    #T_6650b8ee_fb48_11e9_8278_64006aff10a6row9_col2 {\n",
       "            background-color:  #e67259;\n",
       "            color:  #000000;\n",
       "        }    #T_6650b8ee_fb48_11e9_8278_64006aff10a6row9_col3 {\n",
       "            background-color:  #506bda;\n",
       "            color:  #000000;\n",
       "        }    #T_6650b8ee_fb48_11e9_8278_64006aff10a6row9_col4 {\n",
       "            background-color:  #eb7d62;\n",
       "            color:  #000000;\n",
       "        }    #T_6650b8ee_fb48_11e9_8278_64006aff10a6row9_col5 {\n",
       "            background-color:  #7a9df8;\n",
       "            color:  #000000;\n",
       "        }    #T_6650b8ee_fb48_11e9_8278_64006aff10a6row9_col6 {\n",
       "            background-color:  #f6a586;\n",
       "            color:  #000000;\n",
       "        }    #T_6650b8ee_fb48_11e9_8278_64006aff10a6row9_col7 {\n",
       "            background-color:  #6485ec;\n",
       "            color:  #000000;\n",
       "        }    #T_6650b8ee_fb48_11e9_8278_64006aff10a6row9_col8 {\n",
       "            background-color:  #ca3b37;\n",
       "            color:  #f1f1f1;\n",
       "        }    #T_6650b8ee_fb48_11e9_8278_64006aff10a6row9_col9 {\n",
       "            background-color:  #b40426;\n",
       "            color:  #f1f1f1;\n",
       "        }    #T_6650b8ee_fb48_11e9_8278_64006aff10a6row9_col10 {\n",
       "            background-color:  #f6bfa6;\n",
       "            color:  #000000;\n",
       "        }    #T_6650b8ee_fb48_11e9_8278_64006aff10a6row9_col11 {\n",
       "            background-color:  #3b4cc0;\n",
       "            color:  #f1f1f1;\n",
       "        }    #T_6650b8ee_fb48_11e9_8278_64006aff10a6row9_col12 {\n",
       "            background-color:  #f59f80;\n",
       "            color:  #000000;\n",
       "        }    #T_6650b8ee_fb48_11e9_8278_64006aff10a6row9_col13 {\n",
       "            background-color:  #6b8df0;\n",
       "            color:  #000000;\n",
       "        }    #T_6650b8ee_fb48_11e9_8278_64006aff10a6row10_col0 {\n",
       "            background-color:  #dadce0;\n",
       "            color:  #000000;\n",
       "        }    #T_6650b8ee_fb48_11e9_8278_64006aff10a6row10_col1 {\n",
       "            background-color:  #5e7de7;\n",
       "            color:  #000000;\n",
       "        }    #T_6650b8ee_fb48_11e9_8278_64006aff10a6row10_col2 {\n",
       "            background-color:  #f5c0a7;\n",
       "            color:  #000000;\n",
       "        }    #T_6650b8ee_fb48_11e9_8278_64006aff10a6row10_col3 {\n",
       "            background-color:  #3b4cc0;\n",
       "            color:  #f1f1f1;\n",
       "        }    #T_6650b8ee_fb48_11e9_8278_64006aff10a6row10_col4 {\n",
       "            background-color:  #e7d7ce;\n",
       "            color:  #000000;\n",
       "        }    #T_6650b8ee_fb48_11e9_8278_64006aff10a6row10_col5 {\n",
       "            background-color:  #6b8df0;\n",
       "            color:  #000000;\n",
       "        }    #T_6650b8ee_fb48_11e9_8278_64006aff10a6row10_col6 {\n",
       "            background-color:  #eed0c0;\n",
       "            color:  #000000;\n",
       "        }    #T_6650b8ee_fb48_11e9_8278_64006aff10a6row10_col7 {\n",
       "            background-color:  #a1c0ff;\n",
       "            color:  #000000;\n",
       "        }    #T_6650b8ee_fb48_11e9_8278_64006aff10a6row10_col8 {\n",
       "            background-color:  #f5c0a7;\n",
       "            color:  #000000;\n",
       "        }    #T_6650b8ee_fb48_11e9_8278_64006aff10a6row10_col9 {\n",
       "            background-color:  #f6bea4;\n",
       "            color:  #000000;\n",
       "        }    #T_6650b8ee_fb48_11e9_8278_64006aff10a6row10_col10 {\n",
       "            background-color:  #b40426;\n",
       "            color:  #f1f1f1;\n",
       "        }    #T_6650b8ee_fb48_11e9_8278_64006aff10a6row10_col11 {\n",
       "            background-color:  #7597f6;\n",
       "            color:  #000000;\n",
       "        }    #T_6650b8ee_fb48_11e9_8278_64006aff10a6row10_col12 {\n",
       "            background-color:  #f5c0a7;\n",
       "            color:  #000000;\n",
       "        }    #T_6650b8ee_fb48_11e9_8278_64006aff10a6row10_col13 {\n",
       "            background-color:  #6384eb;\n",
       "            color:  #000000;\n",
       "        }    #T_6650b8ee_fb48_11e9_8278_64006aff10a6row11_col0 {\n",
       "            background-color:  #3b4cc0;\n",
       "            color:  #f1f1f1;\n",
       "        }    #T_6650b8ee_fb48_11e9_8278_64006aff10a6row11_col1 {\n",
       "            background-color:  #d7dce3;\n",
       "            color:  #000000;\n",
       "        }    #T_6650b8ee_fb48_11e9_8278_64006aff10a6row11_col2 {\n",
       "            background-color:  #7da0f9;\n",
       "            color:  #000000;\n",
       "        }    #T_6650b8ee_fb48_11e9_8278_64006aff10a6row11_col3 {\n",
       "            background-color:  #6a8bef;\n",
       "            color:  #000000;\n",
       "        }    #T_6650b8ee_fb48_11e9_8278_64006aff10a6row11_col4 {\n",
       "            background-color:  #82a6fb;\n",
       "            color:  #000000;\n",
       "        }    #T_6650b8ee_fb48_11e9_8278_64006aff10a6row11_col5 {\n",
       "            background-color:  #d2dbe8;\n",
       "            color:  #000000;\n",
       "        }    #T_6650b8ee_fb48_11e9_8278_64006aff10a6row11_col6 {\n",
       "            background-color:  #96b7ff;\n",
       "            color:  #000000;\n",
       "        }    #T_6650b8ee_fb48_11e9_8278_64006aff10a6row11_col7 {\n",
       "            background-color:  #f2cbb7;\n",
       "            color:  #000000;\n",
       "        }    #T_6650b8ee_fb48_11e9_8278_64006aff10a6row11_col8 {\n",
       "            background-color:  #445acc;\n",
       "            color:  #f1f1f1;\n",
       "        }    #T_6650b8ee_fb48_11e9_8278_64006aff10a6row11_col9 {\n",
       "            background-color:  #4c66d6;\n",
       "            color:  #000000;\n",
       "        }    #T_6650b8ee_fb48_11e9_8278_64006aff10a6row11_col10 {\n",
       "            background-color:  #81a4fb;\n",
       "            color:  #000000;\n",
       "        }    #T_6650b8ee_fb48_11e9_8278_64006aff10a6row11_col11 {\n",
       "            background-color:  #b40426;\n",
       "            color:  #f1f1f1;\n",
       "        }    #T_6650b8ee_fb48_11e9_8278_64006aff10a6row11_col12 {\n",
       "            background-color:  #80a3fa;\n",
       "            color:  #000000;\n",
       "        }    #T_6650b8ee_fb48_11e9_8278_64006aff10a6row11_col13 {\n",
       "            background-color:  #f3c7b1;\n",
       "            color:  #000000;\n",
       "        }    #T_6650b8ee_fb48_11e9_8278_64006aff10a6row12_col0 {\n",
       "            background-color:  #f3c8b2;\n",
       "            color:  #000000;\n",
       "        }    #T_6650b8ee_fb48_11e9_8278_64006aff10a6row12_col1 {\n",
       "            background-color:  #5a78e4;\n",
       "            color:  #000000;\n",
       "        }    #T_6650b8ee_fb48_11e9_8278_64006aff10a6row12_col2 {\n",
       "            background-color:  #f29274;\n",
       "            color:  #000000;\n",
       "        }    #T_6650b8ee_fb48_11e9_8278_64006aff10a6row12_col3 {\n",
       "            background-color:  #4c66d6;\n",
       "            color:  #000000;\n",
       "        }    #T_6650b8ee_fb48_11e9_8278_64006aff10a6row12_col4 {\n",
       "            background-color:  #f29274;\n",
       "            color:  #000000;\n",
       "        }    #T_6650b8ee_fb48_11e9_8278_64006aff10a6row12_col5 {\n",
       "            background-color:  #3b4cc0;\n",
       "            color:  #f1f1f1;\n",
       "        }    #T_6650b8ee_fb48_11e9_8278_64006aff10a6row12_col6 {\n",
       "            background-color:  #f29072;\n",
       "            color:  #000000;\n",
       "        }    #T_6650b8ee_fb48_11e9_8278_64006aff10a6row12_col7 {\n",
       "            background-color:  #6b8df0;\n",
       "            color:  #000000;\n",
       "        }    #T_6650b8ee_fb48_11e9_8278_64006aff10a6row12_col8 {\n",
       "            background-color:  #f7ba9f;\n",
       "            color:  #000000;\n",
       "        }    #T_6650b8ee_fb48_11e9_8278_64006aff10a6row12_col9 {\n",
       "            background-color:  #f7ac8e;\n",
       "            color:  #000000;\n",
       "        }    #T_6650b8ee_fb48_11e9_8278_64006aff10a6row12_col10 {\n",
       "            background-color:  #efcebd;\n",
       "            color:  #000000;\n",
       "        }    #T_6650b8ee_fb48_11e9_8278_64006aff10a6row12_col11 {\n",
       "            background-color:  #4961d2;\n",
       "            color:  #f1f1f1;\n",
       "        }    #T_6650b8ee_fb48_11e9_8278_64006aff10a6row12_col12 {\n",
       "            background-color:  #b40426;\n",
       "            color:  #f1f1f1;\n",
       "        }    #T_6650b8ee_fb48_11e9_8278_64006aff10a6row12_col13 {\n",
       "            background-color:  #3b4cc0;\n",
       "            color:  #f1f1f1;\n",
       "        }    #T_6650b8ee_fb48_11e9_8278_64006aff10a6row13_col0 {\n",
       "            background-color:  #3b4cc0;\n",
       "            color:  #f1f1f1;\n",
       "        }    #T_6650b8ee_fb48_11e9_8278_64006aff10a6row13_col1 {\n",
       "            background-color:  #f1cdba;\n",
       "            color:  #000000;\n",
       "        }    #T_6650b8ee_fb48_11e9_8278_64006aff10a6row13_col2 {\n",
       "            background-color:  #6485ec;\n",
       "            color:  #000000;\n",
       "        }    #T_6650b8ee_fb48_11e9_8278_64006aff10a6row13_col3 {\n",
       "            background-color:  #93b5fe;\n",
       "            color:  #000000;\n",
       "        }    #T_6650b8ee_fb48_11e9_8278_64006aff10a6row13_col4 {\n",
       "            background-color:  #799cf8;\n",
       "            color:  #000000;\n",
       "        }    #T_6650b8ee_fb48_11e9_8278_64006aff10a6row13_col5 {\n",
       "            background-color:  #eb7d62;\n",
       "            color:  #000000;\n",
       "        }    #T_6650b8ee_fb48_11e9_8278_64006aff10a6row13_col6 {\n",
       "            background-color:  #80a3fa;\n",
       "            color:  #000000;\n",
       "        }    #T_6650b8ee_fb48_11e9_8278_64006aff10a6row13_col7 {\n",
       "            background-color:  #eed0c0;\n",
       "            color:  #000000;\n",
       "        }    #T_6650b8ee_fb48_11e9_8278_64006aff10a6row13_col8 {\n",
       "            background-color:  #506bda;\n",
       "            color:  #000000;\n",
       "        }    #T_6650b8ee_fb48_11e9_8278_64006aff10a6row13_col9 {\n",
       "            background-color:  #465ecf;\n",
       "            color:  #f1f1f1;\n",
       "        }    #T_6650b8ee_fb48_11e9_8278_64006aff10a6row13_col10 {\n",
       "            background-color:  #3b4cc0;\n",
       "            color:  #f1f1f1;\n",
       "        }    #T_6650b8ee_fb48_11e9_8278_64006aff10a6row13_col11 {\n",
       "            background-color:  #e5d8d1;\n",
       "            color:  #000000;\n",
       "        }    #T_6650b8ee_fb48_11e9_8278_64006aff10a6row13_col12 {\n",
       "            background-color:  #3b4cc0;\n",
       "            color:  #f1f1f1;\n",
       "        }    #T_6650b8ee_fb48_11e9_8278_64006aff10a6row13_col13 {\n",
       "            background-color:  #b40426;\n",
       "            color:  #f1f1f1;\n",
       "        }</style><table id=\"T_6650b8ee_fb48_11e9_8278_64006aff10a6\" ><thead>    <tr>        <th class=\"blank level0\" ></th>        <th class=\"col_heading level0 col0\" >Crime_Rate</th>        <th class=\"col_heading level0 col1\" >%_Large_Plots</th>        <th class=\"col_heading level0 col2\" >%_Indus</th>        <th class=\"col_heading level0 col3\" >By_River</th>        <th class=\"col_heading level0 col4\" >NOX</th>        <th class=\"col_heading level0 col5\" >Rooms</th>        <th class=\"col_heading level0 col6\" >%_Pre_1940</th>        <th class=\"col_heading level0 col7\" >Dist_to_Jobs</th>        <th class=\"col_heading level0 col8\" >Highway_Access</th>        <th class=\"col_heading level0 col9\" >Tax</th>        <th class=\"col_heading level0 col10\" >PTRatio</th>        <th class=\"col_heading level0 col11\" >Blks_per_1000</th>        <th class=\"col_heading level0 col12\" >%_Lower_Status</th>        <th class=\"col_heading level0 col13\" >Median_Val</th>    </tr></thead><tbody>\n",
       "                <tr>\n",
       "                        <th id=\"T_6650b8ee_fb48_11e9_8278_64006aff10a6level0_row0\" class=\"row_heading level0 row0\" >Crime_Rate</th>\n",
       "                        <td id=\"T_6650b8ee_fb48_11e9_8278_64006aff10a6row0_col0\" class=\"data row0 col0\" >1</td>\n",
       "                        <td id=\"T_6650b8ee_fb48_11e9_8278_64006aff10a6row0_col1\" class=\"data row0 col1\" >-0.2</td>\n",
       "                        <td id=\"T_6650b8ee_fb48_11e9_8278_64006aff10a6row0_col2\" class=\"data row0 col2\" >0.41</td>\n",
       "                        <td id=\"T_6650b8ee_fb48_11e9_8278_64006aff10a6row0_col3\" class=\"data row0 col3\" >-0.06</td>\n",
       "                        <td id=\"T_6650b8ee_fb48_11e9_8278_64006aff10a6row0_col4\" class=\"data row0 col4\" >0.42</td>\n",
       "                        <td id=\"T_6650b8ee_fb48_11e9_8278_64006aff10a6row0_col5\" class=\"data row0 col5\" >-0.22</td>\n",
       "                        <td id=\"T_6650b8ee_fb48_11e9_8278_64006aff10a6row0_col6\" class=\"data row0 col6\" >0.35</td>\n",
       "                        <td id=\"T_6650b8ee_fb48_11e9_8278_64006aff10a6row0_col7\" class=\"data row0 col7\" >-0.38</td>\n",
       "                        <td id=\"T_6650b8ee_fb48_11e9_8278_64006aff10a6row0_col8\" class=\"data row0 col8\" >0.63</td>\n",
       "                        <td id=\"T_6650b8ee_fb48_11e9_8278_64006aff10a6row0_col9\" class=\"data row0 col9\" >0.58</td>\n",
       "                        <td id=\"T_6650b8ee_fb48_11e9_8278_64006aff10a6row0_col10\" class=\"data row0 col10\" >0.29</td>\n",
       "                        <td id=\"T_6650b8ee_fb48_11e9_8278_64006aff10a6row0_col11\" class=\"data row0 col11\" >-0.39</td>\n",
       "                        <td id=\"T_6650b8ee_fb48_11e9_8278_64006aff10a6row0_col12\" class=\"data row0 col12\" >0.46</td>\n",
       "                        <td id=\"T_6650b8ee_fb48_11e9_8278_64006aff10a6row0_col13\" class=\"data row0 col13\" >-0.39</td>\n",
       "            </tr>\n",
       "            <tr>\n",
       "                        <th id=\"T_6650b8ee_fb48_11e9_8278_64006aff10a6level0_row1\" class=\"row_heading level0 row1\" >%_Large_Plots</th>\n",
       "                        <td id=\"T_6650b8ee_fb48_11e9_8278_64006aff10a6row1_col0\" class=\"data row1 col0\" >-0.2</td>\n",
       "                        <td id=\"T_6650b8ee_fb48_11e9_8278_64006aff10a6row1_col1\" class=\"data row1 col1\" >1</td>\n",
       "                        <td id=\"T_6650b8ee_fb48_11e9_8278_64006aff10a6row1_col2\" class=\"data row1 col2\" >-0.53</td>\n",
       "                        <td id=\"T_6650b8ee_fb48_11e9_8278_64006aff10a6row1_col3\" class=\"data row1 col3\" >-0.04</td>\n",
       "                        <td id=\"T_6650b8ee_fb48_11e9_8278_64006aff10a6row1_col4\" class=\"data row1 col4\" >-0.52</td>\n",
       "                        <td id=\"T_6650b8ee_fb48_11e9_8278_64006aff10a6row1_col5\" class=\"data row1 col5\" >0.31</td>\n",
       "                        <td id=\"T_6650b8ee_fb48_11e9_8278_64006aff10a6row1_col6\" class=\"data row1 col6\" >-0.57</td>\n",
       "                        <td id=\"T_6650b8ee_fb48_11e9_8278_64006aff10a6row1_col7\" class=\"data row1 col7\" >0.66</td>\n",
       "                        <td id=\"T_6650b8ee_fb48_11e9_8278_64006aff10a6row1_col8\" class=\"data row1 col8\" >-0.31</td>\n",
       "                        <td id=\"T_6650b8ee_fb48_11e9_8278_64006aff10a6row1_col9\" class=\"data row1 col9\" >-0.31</td>\n",
       "                        <td id=\"T_6650b8ee_fb48_11e9_8278_64006aff10a6row1_col10\" class=\"data row1 col10\" >-0.39</td>\n",
       "                        <td id=\"T_6650b8ee_fb48_11e9_8278_64006aff10a6row1_col11\" class=\"data row1 col11\" >0.18</td>\n",
       "                        <td id=\"T_6650b8ee_fb48_11e9_8278_64006aff10a6row1_col12\" class=\"data row1 col12\" >-0.41</td>\n",
       "                        <td id=\"T_6650b8ee_fb48_11e9_8278_64006aff10a6row1_col13\" class=\"data row1 col13\" >0.36</td>\n",
       "            </tr>\n",
       "            <tr>\n",
       "                        <th id=\"T_6650b8ee_fb48_11e9_8278_64006aff10a6level0_row2\" class=\"row_heading level0 row2\" >%_Indus</th>\n",
       "                        <td id=\"T_6650b8ee_fb48_11e9_8278_64006aff10a6row2_col0\" class=\"data row2 col0\" >0.41</td>\n",
       "                        <td id=\"T_6650b8ee_fb48_11e9_8278_64006aff10a6row2_col1\" class=\"data row2 col1\" >-0.53</td>\n",
       "                        <td id=\"T_6650b8ee_fb48_11e9_8278_64006aff10a6row2_col2\" class=\"data row2 col2\" >1</td>\n",
       "                        <td id=\"T_6650b8ee_fb48_11e9_8278_64006aff10a6row2_col3\" class=\"data row2 col3\" >0.06</td>\n",
       "                        <td id=\"T_6650b8ee_fb48_11e9_8278_64006aff10a6row2_col4\" class=\"data row2 col4\" >0.76</td>\n",
       "                        <td id=\"T_6650b8ee_fb48_11e9_8278_64006aff10a6row2_col5\" class=\"data row2 col5\" >-0.39</td>\n",
       "                        <td id=\"T_6650b8ee_fb48_11e9_8278_64006aff10a6row2_col6\" class=\"data row2 col6\" >0.64</td>\n",
       "                        <td id=\"T_6650b8ee_fb48_11e9_8278_64006aff10a6row2_col7\" class=\"data row2 col7\" >-0.71</td>\n",
       "                        <td id=\"T_6650b8ee_fb48_11e9_8278_64006aff10a6row2_col8\" class=\"data row2 col8\" >0.6</td>\n",
       "                        <td id=\"T_6650b8ee_fb48_11e9_8278_64006aff10a6row2_col9\" class=\"data row2 col9\" >0.72</td>\n",
       "                        <td id=\"T_6650b8ee_fb48_11e9_8278_64006aff10a6row2_col10\" class=\"data row2 col10\" >0.38</td>\n",
       "                        <td id=\"T_6650b8ee_fb48_11e9_8278_64006aff10a6row2_col11\" class=\"data row2 col11\" >-0.36</td>\n",
       "                        <td id=\"T_6650b8ee_fb48_11e9_8278_64006aff10a6row2_col12\" class=\"data row2 col12\" >0.6</td>\n",
       "                        <td id=\"T_6650b8ee_fb48_11e9_8278_64006aff10a6row2_col13\" class=\"data row2 col13\" >-0.48</td>\n",
       "            </tr>\n",
       "            <tr>\n",
       "                        <th id=\"T_6650b8ee_fb48_11e9_8278_64006aff10a6level0_row3\" class=\"row_heading level0 row3\" >By_River</th>\n",
       "                        <td id=\"T_6650b8ee_fb48_11e9_8278_64006aff10a6row3_col0\" class=\"data row3 col0\" >-0.06</td>\n",
       "                        <td id=\"T_6650b8ee_fb48_11e9_8278_64006aff10a6row3_col1\" class=\"data row3 col1\" >-0.04</td>\n",
       "                        <td id=\"T_6650b8ee_fb48_11e9_8278_64006aff10a6row3_col2\" class=\"data row3 col2\" >0.06</td>\n",
       "                        <td id=\"T_6650b8ee_fb48_11e9_8278_64006aff10a6row3_col3\" class=\"data row3 col3\" >1</td>\n",
       "                        <td id=\"T_6650b8ee_fb48_11e9_8278_64006aff10a6row3_col4\" class=\"data row3 col4\" >0.09</td>\n",
       "                        <td id=\"T_6650b8ee_fb48_11e9_8278_64006aff10a6row3_col5\" class=\"data row3 col5\" >0.09</td>\n",
       "                        <td id=\"T_6650b8ee_fb48_11e9_8278_64006aff10a6row3_col6\" class=\"data row3 col6\" >0.09</td>\n",
       "                        <td id=\"T_6650b8ee_fb48_11e9_8278_64006aff10a6row3_col7\" class=\"data row3 col7\" >-0.1</td>\n",
       "                        <td id=\"T_6650b8ee_fb48_11e9_8278_64006aff10a6row3_col8\" class=\"data row3 col8\" >-0.01</td>\n",
       "                        <td id=\"T_6650b8ee_fb48_11e9_8278_64006aff10a6row3_col9\" class=\"data row3 col9\" >-0.04</td>\n",
       "                        <td id=\"T_6650b8ee_fb48_11e9_8278_64006aff10a6row3_col10\" class=\"data row3 col10\" >-0.12</td>\n",
       "                        <td id=\"T_6650b8ee_fb48_11e9_8278_64006aff10a6row3_col11\" class=\"data row3 col11\" >0.05</td>\n",
       "                        <td id=\"T_6650b8ee_fb48_11e9_8278_64006aff10a6row3_col12\" class=\"data row3 col12\" >-0.05</td>\n",
       "                        <td id=\"T_6650b8ee_fb48_11e9_8278_64006aff10a6row3_col13\" class=\"data row3 col13\" >0.18</td>\n",
       "            </tr>\n",
       "            <tr>\n",
       "                        <th id=\"T_6650b8ee_fb48_11e9_8278_64006aff10a6level0_row4\" class=\"row_heading level0 row4\" >NOX</th>\n",
       "                        <td id=\"T_6650b8ee_fb48_11e9_8278_64006aff10a6row4_col0\" class=\"data row4 col0\" >0.42</td>\n",
       "                        <td id=\"T_6650b8ee_fb48_11e9_8278_64006aff10a6row4_col1\" class=\"data row4 col1\" >-0.52</td>\n",
       "                        <td id=\"T_6650b8ee_fb48_11e9_8278_64006aff10a6row4_col2\" class=\"data row4 col2\" >0.76</td>\n",
       "                        <td id=\"T_6650b8ee_fb48_11e9_8278_64006aff10a6row4_col3\" class=\"data row4 col3\" >0.09</td>\n",
       "                        <td id=\"T_6650b8ee_fb48_11e9_8278_64006aff10a6row4_col4\" class=\"data row4 col4\" >1</td>\n",
       "                        <td id=\"T_6650b8ee_fb48_11e9_8278_64006aff10a6row4_col5\" class=\"data row4 col5\" >-0.3</td>\n",
       "                        <td id=\"T_6650b8ee_fb48_11e9_8278_64006aff10a6row4_col6\" class=\"data row4 col6\" >0.73</td>\n",
       "                        <td id=\"T_6650b8ee_fb48_11e9_8278_64006aff10a6row4_col7\" class=\"data row4 col7\" >-0.77</td>\n",
       "                        <td id=\"T_6650b8ee_fb48_11e9_8278_64006aff10a6row4_col8\" class=\"data row4 col8\" >0.61</td>\n",
       "                        <td id=\"T_6650b8ee_fb48_11e9_8278_64006aff10a6row4_col9\" class=\"data row4 col9\" >0.67</td>\n",
       "                        <td id=\"T_6650b8ee_fb48_11e9_8278_64006aff10a6row4_col10\" class=\"data row4 col10\" >0.19</td>\n",
       "                        <td id=\"T_6650b8ee_fb48_11e9_8278_64006aff10a6row4_col11\" class=\"data row4 col11\" >-0.38</td>\n",
       "                        <td id=\"T_6650b8ee_fb48_11e9_8278_64006aff10a6row4_col12\" class=\"data row4 col12\" >0.59</td>\n",
       "                        <td id=\"T_6650b8ee_fb48_11e9_8278_64006aff10a6row4_col13\" class=\"data row4 col13\" >-0.43</td>\n",
       "            </tr>\n",
       "            <tr>\n",
       "                        <th id=\"T_6650b8ee_fb48_11e9_8278_64006aff10a6level0_row5\" class=\"row_heading level0 row5\" >Rooms</th>\n",
       "                        <td id=\"T_6650b8ee_fb48_11e9_8278_64006aff10a6row5_col0\" class=\"data row5 col0\" >-0.22</td>\n",
       "                        <td id=\"T_6650b8ee_fb48_11e9_8278_64006aff10a6row5_col1\" class=\"data row5 col1\" >0.31</td>\n",
       "                        <td id=\"T_6650b8ee_fb48_11e9_8278_64006aff10a6row5_col2\" class=\"data row5 col2\" >-0.39</td>\n",
       "                        <td id=\"T_6650b8ee_fb48_11e9_8278_64006aff10a6row5_col3\" class=\"data row5 col3\" >0.09</td>\n",
       "                        <td id=\"T_6650b8ee_fb48_11e9_8278_64006aff10a6row5_col4\" class=\"data row5 col4\" >-0.3</td>\n",
       "                        <td id=\"T_6650b8ee_fb48_11e9_8278_64006aff10a6row5_col5\" class=\"data row5 col5\" >1</td>\n",
       "                        <td id=\"T_6650b8ee_fb48_11e9_8278_64006aff10a6row5_col6\" class=\"data row5 col6\" >-0.24</td>\n",
       "                        <td id=\"T_6650b8ee_fb48_11e9_8278_64006aff10a6row5_col7\" class=\"data row5 col7\" >0.21</td>\n",
       "                        <td id=\"T_6650b8ee_fb48_11e9_8278_64006aff10a6row5_col8\" class=\"data row5 col8\" >-0.21</td>\n",
       "                        <td id=\"T_6650b8ee_fb48_11e9_8278_64006aff10a6row5_col9\" class=\"data row5 col9\" >-0.29</td>\n",
       "                        <td id=\"T_6650b8ee_fb48_11e9_8278_64006aff10a6row5_col10\" class=\"data row5 col10\" >-0.36</td>\n",
       "                        <td id=\"T_6650b8ee_fb48_11e9_8278_64006aff10a6row5_col11\" class=\"data row5 col11\" >0.13</td>\n",
       "                        <td id=\"T_6650b8ee_fb48_11e9_8278_64006aff10a6row5_col12\" class=\"data row5 col12\" >-0.61</td>\n",
       "                        <td id=\"T_6650b8ee_fb48_11e9_8278_64006aff10a6row5_col13\" class=\"data row5 col13\" >0.7</td>\n",
       "            </tr>\n",
       "            <tr>\n",
       "                        <th id=\"T_6650b8ee_fb48_11e9_8278_64006aff10a6level0_row6\" class=\"row_heading level0 row6\" >%_Pre_1940</th>\n",
       "                        <td id=\"T_6650b8ee_fb48_11e9_8278_64006aff10a6row6_col0\" class=\"data row6 col0\" >0.35</td>\n",
       "                        <td id=\"T_6650b8ee_fb48_11e9_8278_64006aff10a6row6_col1\" class=\"data row6 col1\" >-0.57</td>\n",
       "                        <td id=\"T_6650b8ee_fb48_11e9_8278_64006aff10a6row6_col2\" class=\"data row6 col2\" >0.64</td>\n",
       "                        <td id=\"T_6650b8ee_fb48_11e9_8278_64006aff10a6row6_col3\" class=\"data row6 col3\" >0.09</td>\n",
       "                        <td id=\"T_6650b8ee_fb48_11e9_8278_64006aff10a6row6_col4\" class=\"data row6 col4\" >0.73</td>\n",
       "                        <td id=\"T_6650b8ee_fb48_11e9_8278_64006aff10a6row6_col5\" class=\"data row6 col5\" >-0.24</td>\n",
       "                        <td id=\"T_6650b8ee_fb48_11e9_8278_64006aff10a6row6_col6\" class=\"data row6 col6\" >1</td>\n",
       "                        <td id=\"T_6650b8ee_fb48_11e9_8278_64006aff10a6row6_col7\" class=\"data row6 col7\" >-0.75</td>\n",
       "                        <td id=\"T_6650b8ee_fb48_11e9_8278_64006aff10a6row6_col8\" class=\"data row6 col8\" >0.46</td>\n",
       "                        <td id=\"T_6650b8ee_fb48_11e9_8278_64006aff10a6row6_col9\" class=\"data row6 col9\" >0.51</td>\n",
       "                        <td id=\"T_6650b8ee_fb48_11e9_8278_64006aff10a6row6_col10\" class=\"data row6 col10\" >0.26</td>\n",
       "                        <td id=\"T_6650b8ee_fb48_11e9_8278_64006aff10a6row6_col11\" class=\"data row6 col11\" >-0.27</td>\n",
       "                        <td id=\"T_6650b8ee_fb48_11e9_8278_64006aff10a6row6_col12\" class=\"data row6 col12\" >0.6</td>\n",
       "                        <td id=\"T_6650b8ee_fb48_11e9_8278_64006aff10a6row6_col13\" class=\"data row6 col13\" >-0.38</td>\n",
       "            </tr>\n",
       "            <tr>\n",
       "                        <th id=\"T_6650b8ee_fb48_11e9_8278_64006aff10a6level0_row7\" class=\"row_heading level0 row7\" >Dist_to_Jobs</th>\n",
       "                        <td id=\"T_6650b8ee_fb48_11e9_8278_64006aff10a6row7_col0\" class=\"data row7 col0\" >-0.38</td>\n",
       "                        <td id=\"T_6650b8ee_fb48_11e9_8278_64006aff10a6row7_col1\" class=\"data row7 col1\" >0.66</td>\n",
       "                        <td id=\"T_6650b8ee_fb48_11e9_8278_64006aff10a6row7_col2\" class=\"data row7 col2\" >-0.71</td>\n",
       "                        <td id=\"T_6650b8ee_fb48_11e9_8278_64006aff10a6row7_col3\" class=\"data row7 col3\" >-0.1</td>\n",
       "                        <td id=\"T_6650b8ee_fb48_11e9_8278_64006aff10a6row7_col4\" class=\"data row7 col4\" >-0.77</td>\n",
       "                        <td id=\"T_6650b8ee_fb48_11e9_8278_64006aff10a6row7_col5\" class=\"data row7 col5\" >0.21</td>\n",
       "                        <td id=\"T_6650b8ee_fb48_11e9_8278_64006aff10a6row7_col6\" class=\"data row7 col6\" >-0.75</td>\n",
       "                        <td id=\"T_6650b8ee_fb48_11e9_8278_64006aff10a6row7_col7\" class=\"data row7 col7\" >1</td>\n",
       "                        <td id=\"T_6650b8ee_fb48_11e9_8278_64006aff10a6row7_col8\" class=\"data row7 col8\" >-0.49</td>\n",
       "                        <td id=\"T_6650b8ee_fb48_11e9_8278_64006aff10a6row7_col9\" class=\"data row7 col9\" >-0.53</td>\n",
       "                        <td id=\"T_6650b8ee_fb48_11e9_8278_64006aff10a6row7_col10\" class=\"data row7 col10\" >-0.23</td>\n",
       "                        <td id=\"T_6650b8ee_fb48_11e9_8278_64006aff10a6row7_col11\" class=\"data row7 col11\" >0.29</td>\n",
       "                        <td id=\"T_6650b8ee_fb48_11e9_8278_64006aff10a6row7_col12\" class=\"data row7 col12\" >-0.5</td>\n",
       "                        <td id=\"T_6650b8ee_fb48_11e9_8278_64006aff10a6row7_col13\" class=\"data row7 col13\" >0.25</td>\n",
       "            </tr>\n",
       "            <tr>\n",
       "                        <th id=\"T_6650b8ee_fb48_11e9_8278_64006aff10a6level0_row8\" class=\"row_heading level0 row8\" >Highway_Access</th>\n",
       "                        <td id=\"T_6650b8ee_fb48_11e9_8278_64006aff10a6row8_col0\" class=\"data row8 col0\" >0.63</td>\n",
       "                        <td id=\"T_6650b8ee_fb48_11e9_8278_64006aff10a6row8_col1\" class=\"data row8 col1\" >-0.31</td>\n",
       "                        <td id=\"T_6650b8ee_fb48_11e9_8278_64006aff10a6row8_col2\" class=\"data row8 col2\" >0.6</td>\n",
       "                        <td id=\"T_6650b8ee_fb48_11e9_8278_64006aff10a6row8_col3\" class=\"data row8 col3\" >-0.01</td>\n",
       "                        <td id=\"T_6650b8ee_fb48_11e9_8278_64006aff10a6row8_col4\" class=\"data row8 col4\" >0.61</td>\n",
       "                        <td id=\"T_6650b8ee_fb48_11e9_8278_64006aff10a6row8_col5\" class=\"data row8 col5\" >-0.21</td>\n",
       "                        <td id=\"T_6650b8ee_fb48_11e9_8278_64006aff10a6row8_col6\" class=\"data row8 col6\" >0.46</td>\n",
       "                        <td id=\"T_6650b8ee_fb48_11e9_8278_64006aff10a6row8_col7\" class=\"data row8 col7\" >-0.49</td>\n",
       "                        <td id=\"T_6650b8ee_fb48_11e9_8278_64006aff10a6row8_col8\" class=\"data row8 col8\" >1</td>\n",
       "                        <td id=\"T_6650b8ee_fb48_11e9_8278_64006aff10a6row8_col9\" class=\"data row8 col9\" >0.91</td>\n",
       "                        <td id=\"T_6650b8ee_fb48_11e9_8278_64006aff10a6row8_col10\" class=\"data row8 col10\" >0.46</td>\n",
       "                        <td id=\"T_6650b8ee_fb48_11e9_8278_64006aff10a6row8_col11\" class=\"data row8 col11\" >-0.44</td>\n",
       "                        <td id=\"T_6650b8ee_fb48_11e9_8278_64006aff10a6row8_col12\" class=\"data row8 col12\" >0.49</td>\n",
       "                        <td id=\"T_6650b8ee_fb48_11e9_8278_64006aff10a6row8_col13\" class=\"data row8 col13\" >-0.38</td>\n",
       "            </tr>\n",
       "            <tr>\n",
       "                        <th id=\"T_6650b8ee_fb48_11e9_8278_64006aff10a6level0_row9\" class=\"row_heading level0 row9\" >Tax</th>\n",
       "                        <td id=\"T_6650b8ee_fb48_11e9_8278_64006aff10a6row9_col0\" class=\"data row9 col0\" >0.58</td>\n",
       "                        <td id=\"T_6650b8ee_fb48_11e9_8278_64006aff10a6row9_col1\" class=\"data row9 col1\" >-0.31</td>\n",
       "                        <td id=\"T_6650b8ee_fb48_11e9_8278_64006aff10a6row9_col2\" class=\"data row9 col2\" >0.72</td>\n",
       "                        <td id=\"T_6650b8ee_fb48_11e9_8278_64006aff10a6row9_col3\" class=\"data row9 col3\" >-0.04</td>\n",
       "                        <td id=\"T_6650b8ee_fb48_11e9_8278_64006aff10a6row9_col4\" class=\"data row9 col4\" >0.67</td>\n",
       "                        <td id=\"T_6650b8ee_fb48_11e9_8278_64006aff10a6row9_col5\" class=\"data row9 col5\" >-0.29</td>\n",
       "                        <td id=\"T_6650b8ee_fb48_11e9_8278_64006aff10a6row9_col6\" class=\"data row9 col6\" >0.51</td>\n",
       "                        <td id=\"T_6650b8ee_fb48_11e9_8278_64006aff10a6row9_col7\" class=\"data row9 col7\" >-0.53</td>\n",
       "                        <td id=\"T_6650b8ee_fb48_11e9_8278_64006aff10a6row9_col8\" class=\"data row9 col8\" >0.91</td>\n",
       "                        <td id=\"T_6650b8ee_fb48_11e9_8278_64006aff10a6row9_col9\" class=\"data row9 col9\" >1</td>\n",
       "                        <td id=\"T_6650b8ee_fb48_11e9_8278_64006aff10a6row9_col10\" class=\"data row9 col10\" >0.46</td>\n",
       "                        <td id=\"T_6650b8ee_fb48_11e9_8278_64006aff10a6row9_col11\" class=\"data row9 col11\" >-0.44</td>\n",
       "                        <td id=\"T_6650b8ee_fb48_11e9_8278_64006aff10a6row9_col12\" class=\"data row9 col12\" >0.54</td>\n",
       "                        <td id=\"T_6650b8ee_fb48_11e9_8278_64006aff10a6row9_col13\" class=\"data row9 col13\" >-0.47</td>\n",
       "            </tr>\n",
       "            <tr>\n",
       "                        <th id=\"T_6650b8ee_fb48_11e9_8278_64006aff10a6level0_row10\" class=\"row_heading level0 row10\" >PTRatio</th>\n",
       "                        <td id=\"T_6650b8ee_fb48_11e9_8278_64006aff10a6row10_col0\" class=\"data row10 col0\" >0.29</td>\n",
       "                        <td id=\"T_6650b8ee_fb48_11e9_8278_64006aff10a6row10_col1\" class=\"data row10 col1\" >-0.39</td>\n",
       "                        <td id=\"T_6650b8ee_fb48_11e9_8278_64006aff10a6row10_col2\" class=\"data row10 col2\" >0.38</td>\n",
       "                        <td id=\"T_6650b8ee_fb48_11e9_8278_64006aff10a6row10_col3\" class=\"data row10 col3\" >-0.12</td>\n",
       "                        <td id=\"T_6650b8ee_fb48_11e9_8278_64006aff10a6row10_col4\" class=\"data row10 col4\" >0.19</td>\n",
       "                        <td id=\"T_6650b8ee_fb48_11e9_8278_64006aff10a6row10_col5\" class=\"data row10 col5\" >-0.36</td>\n",
       "                        <td id=\"T_6650b8ee_fb48_11e9_8278_64006aff10a6row10_col6\" class=\"data row10 col6\" >0.26</td>\n",
       "                        <td id=\"T_6650b8ee_fb48_11e9_8278_64006aff10a6row10_col7\" class=\"data row10 col7\" >-0.23</td>\n",
       "                        <td id=\"T_6650b8ee_fb48_11e9_8278_64006aff10a6row10_col8\" class=\"data row10 col8\" >0.46</td>\n",
       "                        <td id=\"T_6650b8ee_fb48_11e9_8278_64006aff10a6row10_col9\" class=\"data row10 col9\" >0.46</td>\n",
       "                        <td id=\"T_6650b8ee_fb48_11e9_8278_64006aff10a6row10_col10\" class=\"data row10 col10\" >1</td>\n",
       "                        <td id=\"T_6650b8ee_fb48_11e9_8278_64006aff10a6row10_col11\" class=\"data row10 col11\" >-0.18</td>\n",
       "                        <td id=\"T_6650b8ee_fb48_11e9_8278_64006aff10a6row10_col12\" class=\"data row10 col12\" >0.37</td>\n",
       "                        <td id=\"T_6650b8ee_fb48_11e9_8278_64006aff10a6row10_col13\" class=\"data row10 col13\" >-0.51</td>\n",
       "            </tr>\n",
       "            <tr>\n",
       "                        <th id=\"T_6650b8ee_fb48_11e9_8278_64006aff10a6level0_row11\" class=\"row_heading level0 row11\" >Blks_per_1000</th>\n",
       "                        <td id=\"T_6650b8ee_fb48_11e9_8278_64006aff10a6row11_col0\" class=\"data row11 col0\" >-0.39</td>\n",
       "                        <td id=\"T_6650b8ee_fb48_11e9_8278_64006aff10a6row11_col1\" class=\"data row11 col1\" >0.18</td>\n",
       "                        <td id=\"T_6650b8ee_fb48_11e9_8278_64006aff10a6row11_col2\" class=\"data row11 col2\" >-0.36</td>\n",
       "                        <td id=\"T_6650b8ee_fb48_11e9_8278_64006aff10a6row11_col3\" class=\"data row11 col3\" >0.05</td>\n",
       "                        <td id=\"T_6650b8ee_fb48_11e9_8278_64006aff10a6row11_col4\" class=\"data row11 col4\" >-0.38</td>\n",
       "                        <td id=\"T_6650b8ee_fb48_11e9_8278_64006aff10a6row11_col5\" class=\"data row11 col5\" >0.13</td>\n",
       "                        <td id=\"T_6650b8ee_fb48_11e9_8278_64006aff10a6row11_col6\" class=\"data row11 col6\" >-0.27</td>\n",
       "                        <td id=\"T_6650b8ee_fb48_11e9_8278_64006aff10a6row11_col7\" class=\"data row11 col7\" >0.29</td>\n",
       "                        <td id=\"T_6650b8ee_fb48_11e9_8278_64006aff10a6row11_col8\" class=\"data row11 col8\" >-0.44</td>\n",
       "                        <td id=\"T_6650b8ee_fb48_11e9_8278_64006aff10a6row11_col9\" class=\"data row11 col9\" >-0.44</td>\n",
       "                        <td id=\"T_6650b8ee_fb48_11e9_8278_64006aff10a6row11_col10\" class=\"data row11 col10\" >-0.18</td>\n",
       "                        <td id=\"T_6650b8ee_fb48_11e9_8278_64006aff10a6row11_col11\" class=\"data row11 col11\" >1</td>\n",
       "                        <td id=\"T_6650b8ee_fb48_11e9_8278_64006aff10a6row11_col12\" class=\"data row11 col12\" >-0.37</td>\n",
       "                        <td id=\"T_6650b8ee_fb48_11e9_8278_64006aff10a6row11_col13\" class=\"data row11 col13\" >0.33</td>\n",
       "            </tr>\n",
       "            <tr>\n",
       "                        <th id=\"T_6650b8ee_fb48_11e9_8278_64006aff10a6level0_row12\" class=\"row_heading level0 row12\" >%_Lower_Status</th>\n",
       "                        <td id=\"T_6650b8ee_fb48_11e9_8278_64006aff10a6row12_col0\" class=\"data row12 col0\" >0.46</td>\n",
       "                        <td id=\"T_6650b8ee_fb48_11e9_8278_64006aff10a6row12_col1\" class=\"data row12 col1\" >-0.41</td>\n",
       "                        <td id=\"T_6650b8ee_fb48_11e9_8278_64006aff10a6row12_col2\" class=\"data row12 col2\" >0.6</td>\n",
       "                        <td id=\"T_6650b8ee_fb48_11e9_8278_64006aff10a6row12_col3\" class=\"data row12 col3\" >-0.05</td>\n",
       "                        <td id=\"T_6650b8ee_fb48_11e9_8278_64006aff10a6row12_col4\" class=\"data row12 col4\" >0.59</td>\n",
       "                        <td id=\"T_6650b8ee_fb48_11e9_8278_64006aff10a6row12_col5\" class=\"data row12 col5\" >-0.61</td>\n",
       "                        <td id=\"T_6650b8ee_fb48_11e9_8278_64006aff10a6row12_col6\" class=\"data row12 col6\" >0.6</td>\n",
       "                        <td id=\"T_6650b8ee_fb48_11e9_8278_64006aff10a6row12_col7\" class=\"data row12 col7\" >-0.5</td>\n",
       "                        <td id=\"T_6650b8ee_fb48_11e9_8278_64006aff10a6row12_col8\" class=\"data row12 col8\" >0.49</td>\n",
       "                        <td id=\"T_6650b8ee_fb48_11e9_8278_64006aff10a6row12_col9\" class=\"data row12 col9\" >0.54</td>\n",
       "                        <td id=\"T_6650b8ee_fb48_11e9_8278_64006aff10a6row12_col10\" class=\"data row12 col10\" >0.37</td>\n",
       "                        <td id=\"T_6650b8ee_fb48_11e9_8278_64006aff10a6row12_col11\" class=\"data row12 col11\" >-0.37</td>\n",
       "                        <td id=\"T_6650b8ee_fb48_11e9_8278_64006aff10a6row12_col12\" class=\"data row12 col12\" >1</td>\n",
       "                        <td id=\"T_6650b8ee_fb48_11e9_8278_64006aff10a6row12_col13\" class=\"data row12 col13\" >-0.74</td>\n",
       "            </tr>\n",
       "            <tr>\n",
       "                        <th id=\"T_6650b8ee_fb48_11e9_8278_64006aff10a6level0_row13\" class=\"row_heading level0 row13\" >Median_Val</th>\n",
       "                        <td id=\"T_6650b8ee_fb48_11e9_8278_64006aff10a6row13_col0\" class=\"data row13 col0\" >-0.39</td>\n",
       "                        <td id=\"T_6650b8ee_fb48_11e9_8278_64006aff10a6row13_col1\" class=\"data row13 col1\" >0.36</td>\n",
       "                        <td id=\"T_6650b8ee_fb48_11e9_8278_64006aff10a6row13_col2\" class=\"data row13 col2\" >-0.48</td>\n",
       "                        <td id=\"T_6650b8ee_fb48_11e9_8278_64006aff10a6row13_col3\" class=\"data row13 col3\" >0.18</td>\n",
       "                        <td id=\"T_6650b8ee_fb48_11e9_8278_64006aff10a6row13_col4\" class=\"data row13 col4\" >-0.43</td>\n",
       "                        <td id=\"T_6650b8ee_fb48_11e9_8278_64006aff10a6row13_col5\" class=\"data row13 col5\" >0.7</td>\n",
       "                        <td id=\"T_6650b8ee_fb48_11e9_8278_64006aff10a6row13_col6\" class=\"data row13 col6\" >-0.38</td>\n",
       "                        <td id=\"T_6650b8ee_fb48_11e9_8278_64006aff10a6row13_col7\" class=\"data row13 col7\" >0.25</td>\n",
       "                        <td id=\"T_6650b8ee_fb48_11e9_8278_64006aff10a6row13_col8\" class=\"data row13 col8\" >-0.38</td>\n",
       "                        <td id=\"T_6650b8ee_fb48_11e9_8278_64006aff10a6row13_col9\" class=\"data row13 col9\" >-0.47</td>\n",
       "                        <td id=\"T_6650b8ee_fb48_11e9_8278_64006aff10a6row13_col10\" class=\"data row13 col10\" >-0.51</td>\n",
       "                        <td id=\"T_6650b8ee_fb48_11e9_8278_64006aff10a6row13_col11\" class=\"data row13 col11\" >0.33</td>\n",
       "                        <td id=\"T_6650b8ee_fb48_11e9_8278_64006aff10a6row13_col12\" class=\"data row13 col12\" >-0.74</td>\n",
       "                        <td id=\"T_6650b8ee_fb48_11e9_8278_64006aff10a6row13_col13\" class=\"data row13 col13\" >1</td>\n",
       "            </tr>\n",
       "    </tbody></table>"
      ],
      "text/plain": [
       "<pandas.io.formats.style.Styler at 0x1e56390da58>"
      ]
     },
     "execution_count": 14,
     "metadata": {},
     "output_type": "execute_result"
    }
   ],
   "source": [
    "corr_matrix = df.corr().round(2)\n",
    "corr_matrix.style.background_gradient(cmap='coolwarm')"
   ]
  },
  {
   "cell_type": "code",
   "execution_count": 15,
   "metadata": {},
   "outputs": [
    {
     "data": {
      "text/plain": [
       "%_Lower_Status   -0.74\n",
       "PTRatio          -0.51\n",
       "%_Indus          -0.48\n",
       "Tax              -0.47\n",
       "NOX              -0.43\n",
       "Crime_Rate       -0.39\n",
       "%_Pre_1940       -0.38\n",
       "Highway_Access   -0.38\n",
       "By_River          0.18\n",
       "Dist_to_Jobs      0.25\n",
       "Blks_per_1000     0.33\n",
       "%_Large_Plots     0.36\n",
       "Rooms             0.70\n",
       "Median_Val        1.00\n",
       "Name: Median_Val, dtype: float64"
      ]
     },
     "execution_count": 15,
     "metadata": {},
     "output_type": "execute_result"
    }
   ],
   "source": [
    "median_val_corr = corr_matrix.iloc[-1]\n",
    "median_val_corr.sort_values(ascending=True)"
   ]
  },
  {
   "cell_type": "markdown",
   "metadata": {},
   "source": [
    "The average number of Rooms per House (0.7) and the % of People of Lower Status (-0.74) are the mostly strongly corrolated with the Median Value of houses"
   ]
  },
  {
   "cell_type": "markdown",
   "metadata": {},
   "source": [
    "Also, worth noting the high corrolation between NOX and industrialisation (0.76) , Tax and Access to Highways (0.91)"
   ]
  },
  {
   "cell_type": "markdown",
   "metadata": {},
   "source": [
    "### Corrolation and Sensitivity to different variables"
   ]
  },
  {
   "cell_type": "markdown",
   "metadata": {},
   "source": [
    "1. Benefit of less NOX drops when DIS and RAD are removed. This is because the advantages of greater accessability cancel out the disadvantages of less clean air. \n",
    "2. The affect of higher NOX levels can easily be attributed to a higher proportion of lower status households. \n",
    "3. In general there is a high degree of heteroscedasticity. As X increases there is a larger variance in Y. "
   ]
  },
  {
   "cell_type": "code",
   "execution_count": 16,
   "metadata": {},
   "outputs": [
    {
     "data": {
      "text/plain": [
       "<seaborn.axisgrid.FacetGrid at 0x1e563c7f7f0>"
      ]
     },
     "execution_count": 16,
     "metadata": {},
     "output_type": "execute_result"
    },
    {
     "data": {
      "image/png": "[encoded data removed]",
      "text/plain": [
       "<Figure size 360x360 with 1 Axes>"
      ]
     },
     "metadata": {
      "needs_background": "light"
     },
     "output_type": "display_data"
    }
   ],
   "source": [
    "sns.lmplot(x=\"Rooms\", y=\"Median_Val\", data=df)"
   ]
  },
  {
   "cell_type": "code",
   "execution_count": 17,
   "metadata": {
    "scrolled": true
   },
   "outputs": [
    {
     "data": {
      "text/plain": [
       "<seaborn.axisgrid.FacetGrid at 0x1e563d85d30>"
      ]
     },
     "execution_count": 17,
     "metadata": {},
     "output_type": "execute_result"
    },
    {
     "data": {
      "image/png": "[encoded data removed]",
      "text/plain": [
       "<Figure size 360x360 with 1 Axes>"
      ]
     },
     "metadata": {
      "needs_background": "light"
     },
     "output_type": "display_data"
    }
   ],
   "source": [
    "sns.lmplot(x=\"%_Lower_Status\", y=\"Median_Val\", data=df)"
   ]
  },
  {
   "cell_type": "markdown",
   "metadata": {},
   "source": [
    "Looking at 2 next most closely corrolated attributes: Crime rate and Pupil teacher ratio shows there is a far less obvious relationship."
   ]
  },
  {
   "cell_type": "code",
   "execution_count": 18,
   "metadata": {
    "scrolled": true
   },
   "outputs": [
    {
     "data": {
      "text/plain": [
       "<seaborn.axisgrid.FacetGrid at 0x1e563e02668>"
      ]
     },
     "execution_count": 18,
     "metadata": {},
     "output_type": "execute_result"
    },
    {
     "data": {
      "image/png": "[encoded data removed]",
      "text/plain": [
       "<Figure size 360x360 with 1 Axes>"
      ]
     },
     "metadata": {
      "needs_background": "light"
     },
     "output_type": "display_data"
    }
   ],
   "source": [
    "# lmplot of a weakly corrolated value \"Distance to areas of employement (Dist_to_Jobs)\"\n",
    "sns.lmplot(x=\"Crime_Rate\", y=\"Median_Val\", data=df)"
   ]
  },
  {
   "cell_type": "code",
   "execution_count": 19,
   "metadata": {},
   "outputs": [
    {
     "data": {
      "text/plain": [
       "<seaborn.axisgrid.FacetGrid at 0x1e563e5bc18>"
      ]
     },
     "execution_count": 19,
     "metadata": {},
     "output_type": "execute_result"
    },
    {
     "data": {
      "image/png": "[encoded data removed]",
      "text/plain": [
       "<Figure size 360x360 with 1 Axes>"
      ]
     },
     "metadata": {
      "needs_background": "light"
     },
     "output_type": "display_data"
    }
   ],
   "source": [
    "# lmplot of a weakly corrolated value \"Distance to areas of employement (Dist_to_Jobs)\"\n",
    "sns.lmplot(x=\"PTRatio\", y=\"Median_Val\", data=df)"
   ]
  },
  {
   "cell_type": "code",
   "execution_count": null,
   "metadata": {},
   "outputs": [],
   "source": []
  },
  {
   "cell_type": "markdown",
   "metadata": {},
   "source": [
    "# 3. Inferential Statistics"
   ]
  },
  {
   "cell_type": "markdown",
   "metadata": {},
   "source": [
    "#### Objective 2: Analyse whether there is a significant difference between median house prices between houses that are along the Charles river and those that aren't."
   ]
  },
  {
   "cell_type": "markdown",
   "metadata": {},
   "source": [
    "The first attribute who's effect on housing prices that I was asked to investigate is whether the house is by the Charles River or not (\"CHAS\" or \"By_River\").\n",
    "\n",
    "In the original paper this dataset was derived from, the authors assumed there would be a positive relationship between being next to the river and housing prices.\n",
    "\n",
    "As I have shown above, there only seems to be a very week positive corrolation (0.18).\n",
    "\n",
    "In order to investigate further I have performed T-test and ANOVA tests below."
   ]
  },
  {
   "cell_type": "code",
   "execution_count": 20,
   "metadata": {},
   "outputs": [
    {
     "data": {
      "text/html": [
       "<div>\n",
       "<style scoped>\n",
       "    .dataframe tbody tr th:only-of-type {\n",
       "        vertical-align: middle;\n",
       "    }\n",
       "\n",
       "    .dataframe tbody tr th {\n",
       "        vertical-align: top;\n",
       "    }\n",
       "\n",
       "    .dataframe thead th {\n",
       "        text-align: right;\n",
       "    }\n",
       "</style>\n",
       "<table border=\"1\" class=\"dataframe\">\n",
       "  <thead>\n",
       "    <tr style=\"text-align: right;\">\n",
       "      <th></th>\n",
       "      <th>By_River</th>\n",
       "      <th>Median_Val</th>\n",
       "    </tr>\n",
       "  </thead>\n",
       "  <tbody>\n",
       "    <tr>\n",
       "      <th>0</th>\n",
       "      <td>0.0</td>\n",
       "      <td>24.0</td>\n",
       "    </tr>\n",
       "    <tr>\n",
       "      <th>1</th>\n",
       "      <td>0.0</td>\n",
       "      <td>21.6</td>\n",
       "    </tr>\n",
       "    <tr>\n",
       "      <th>2</th>\n",
       "      <td>0.0</td>\n",
       "      <td>34.7</td>\n",
       "    </tr>\n",
       "    <tr>\n",
       "      <th>3</th>\n",
       "      <td>0.0</td>\n",
       "      <td>33.4</td>\n",
       "    </tr>\n",
       "    <tr>\n",
       "      <th>4</th>\n",
       "      <td>0.0</td>\n",
       "      <td>36.2</td>\n",
       "    </tr>\n",
       "  </tbody>\n",
       "</table>\n",
       "</div>"
      ],
      "text/plain": [
       "   By_River  Median_Val\n",
       "0       0.0        24.0\n",
       "1       0.0        21.6\n",
       "2       0.0        34.7\n",
       "3       0.0        33.4\n",
       "4       0.0        36.2"
      ]
     },
     "execution_count": 20,
     "metadata": {},
     "output_type": "execute_result"
    }
   ],
   "source": [
    "# create a dataframe consisting of the two attributes we are looking at in more detail\n",
    "river_df = df[['By_River','Median_Val']]\n",
    "river_df.head()"
   ]
  },
  {
   "cell_type": "code",
   "execution_count": 21,
   "metadata": {},
   "outputs": [
    {
     "data": {
      "text/html": [
       "<div>\n",
       "<style scoped>\n",
       "    .dataframe tbody tr th:only-of-type {\n",
       "        vertical-align: middle;\n",
       "    }\n",
       "\n",
       "    .dataframe tbody tr th {\n",
       "        vertical-align: top;\n",
       "    }\n",
       "\n",
       "    .dataframe thead th {\n",
       "        text-align: right;\n",
       "    }\n",
       "</style>\n",
       "<table border=\"1\" class=\"dataframe\">\n",
       "  <thead>\n",
       "    <tr style=\"text-align: right;\">\n",
       "      <th></th>\n",
       "      <th>By_River</th>\n",
       "      <th>Median_Val</th>\n",
       "    </tr>\n",
       "  </thead>\n",
       "  <tbody>\n",
       "    <tr>\n",
       "      <th>501</th>\n",
       "      <td>0.0</td>\n",
       "      <td>22.4</td>\n",
       "    </tr>\n",
       "    <tr>\n",
       "      <th>502</th>\n",
       "      <td>0.0</td>\n",
       "      <td>20.6</td>\n",
       "    </tr>\n",
       "    <tr>\n",
       "      <th>503</th>\n",
       "      <td>0.0</td>\n",
       "      <td>23.9</td>\n",
       "    </tr>\n",
       "    <tr>\n",
       "      <th>504</th>\n",
       "      <td>0.0</td>\n",
       "      <td>22.0</td>\n",
       "    </tr>\n",
       "    <tr>\n",
       "      <th>505</th>\n",
       "      <td>0.0</td>\n",
       "      <td>11.9</td>\n",
       "    </tr>\n",
       "  </tbody>\n",
       "</table>\n",
       "</div>"
      ],
      "text/plain": [
       "     By_River  Median_Val\n",
       "501       0.0        22.4\n",
       "502       0.0        20.6\n",
       "503       0.0        23.9\n",
       "504       0.0        22.0\n",
       "505       0.0        11.9"
      ]
     },
     "execution_count": 21,
     "metadata": {},
     "output_type": "execute_result"
    }
   ],
   "source": [
    "river_df.tail()"
   ]
  },
  {
   "cell_type": "code",
   "execution_count": 22,
   "metadata": {},
   "outputs": [
    {
     "data": {
      "text/plain": [
       "35"
      ]
     },
     "execution_count": 22,
     "metadata": {},
     "output_type": "execute_result"
    }
   ],
   "source": [
    "# getting the count of areas next to the Charles river\n",
    "count_by_river = len(river_df[river_df['By_River'] == 1.0])\n",
    "count_by_river"
   ]
  },
  {
   "cell_type": "code",
   "execution_count": 23,
   "metadata": {},
   "outputs": [
    {
     "data": {
      "text/plain": [
       "471"
      ]
     },
     "execution_count": 23,
     "metadata": {},
     "output_type": "execute_result"
    }
   ],
   "source": [
    "# getting the count of areas away from the Charles River\n",
    "count_away_from_river = len(river_df[river_df['By_River'] == 0.0])\n",
    "count_away_from_river"
   ]
  },
  {
   "cell_type": "code",
   "execution_count": 24,
   "metadata": {},
   "outputs": [
    {
     "data": {
      "text/plain": [
       "<matplotlib.axes._subplots.AxesSubplot at 0x1e563e29940>"
      ]
     },
     "execution_count": 24,
     "metadata": {},
     "output_type": "execute_result"
    },
    {
     "data": {
      "image/png": "[encoded data removed]",
      "text/plain": [
       "<Figure size 432x288 with 1 Axes>"
      ]
     },
     "metadata": {
      "needs_background": "light"
     },
     "output_type": "display_data"
    }
   ],
   "source": [
    "sns.distplot(river_df['By_River'], kde=False)"
   ]
  },
  {
   "cell_type": "code",
   "execution_count": 25,
   "metadata": {},
   "outputs": [
    {
     "data": {
      "text/plain": [
       "<seaborn.axisgrid.FacetGrid at 0x1e563e5dcc0>"
      ]
     },
     "execution_count": 25,
     "metadata": {},
     "output_type": "execute_result"
    },
    {
     "data": {
      "image/png": "[encoded data removed]",
      "text/plain": [
       "<Figure size 360x360 with 1 Axes>"
      ]
     },
     "metadata": {
      "needs_background": "light"
     },
     "output_type": "display_data"
    }
   ],
   "source": [
    "sns.catplot(x='By_River', y='Median_Val', kind='box', data=river_df)\n",
    "# What do all the outliers mean"
   ]
  },
  {
   "cell_type": "markdown",
   "metadata": {},
   "source": [
    "As we can see from the above counts and histogram, there are significantly more areas in our dataset that are located away from the Charles rive (471) vs next to the Charles River (35). There are also a significant number of outliers in the Median Value of houses in areas that are away from the river."
   ]
  },
  {
   "cell_type": "markdown",
   "metadata": {},
   "source": [
    "### Discuss issues with unequal sample sizes"
   ]
  },
  {
   "cell_type": "markdown",
   "metadata": {},
   "source": [
    "Unequal sample sizes are a common issue that can lead to:\n",
    "* Unequal variances between samples, which affects the assumption of equal variances in ANOVA Tests. \n",
    "* A general loss of power as equal size groups maxamize statistical power. This means it less likely the test will detect and effect if there is an effect to be detected.\n",
    "* Issues with confounding variables.\n",
    "\n",
    "However, while we need to be mindful of this it does not invalidate the results of an ANOVA test. "
   ]
  },
  {
   "cell_type": "code",
   "execution_count": 26,
   "metadata": {},
   "outputs": [
    {
     "data": {
      "text/plain": [
       "count    35.000000\n",
       "mean     28.440000\n",
       "std      11.816643\n",
       "min      13.400000\n",
       "25%      21.100000\n",
       "50%      23.300000\n",
       "75%      33.150000\n",
       "max      50.000000\n",
       "Name: Median_Val, dtype: float64"
      ]
     },
     "execution_count": 26,
     "metadata": {},
     "output_type": "execute_result"
    }
   ],
   "source": [
    "next_to_river = river_df[river_df['By_River'] == 1]\n",
    "away_from_river = river_df[river_df['By_River'] == 0]\n",
    "next_to_river[\"Median_Val\"].describe()"
   ]
  },
  {
   "cell_type": "code",
   "execution_count": 27,
   "metadata": {},
   "outputs": [
    {
     "data": {
      "text/plain": [
       "count    471.000000\n",
       "mean      22.093843\n",
       "std        8.831362\n",
       "min        5.000000\n",
       "25%       16.600000\n",
       "50%       20.900000\n",
       "75%       24.800000\n",
       "max       50.000000\n",
       "Name: Median_Val, dtype: float64"
      ]
     },
     "execution_count": 27,
     "metadata": {},
     "output_type": "execute_result"
    }
   ],
   "source": [
    "away_from_river[\"Median_Val\"].describe()"
   ]
  },
  {
   "cell_type": "code",
   "execution_count": 28,
   "metadata": {},
   "outputs": [
    {
     "data": {
      "image/png": "[encoded data removed]",
      "text/plain": [
       "<Figure size 432x288 with 1 Axes>"
      ]
     },
     "metadata": {
      "needs_background": "light"
     },
     "output_type": "display_data"
    }
   ],
   "source": [
    "ax = sns.distplot(next_to_river['Median_Val'])\n",
    "ax = sns.distplot(away_from_river['Median_Val'])\n",
    "pyplt.rcParams[\"figure.figsize\"] = (20,20)"
   ]
  },
  {
   "cell_type": "markdown",
   "metadata": {},
   "source": [
    "### T-test"
   ]
  },
  {
   "cell_type": "markdown",
   "metadata": {},
   "source": [
    "Before we can apply a T-Test, it first necessary to ensure that our datasets meet the requirements:"
   ]
  },
  {
   "cell_type": "markdown",
   "metadata": {},
   "source": [
    "|#|Requirement|Pass|Reasoning|\n",
    "|:------------------------|:---------|:-----------|:-----------|\n",
    "|1|Dependent variable should be measured on continuous scale|YES|Median Value is measured on continuous scale|\n",
    "|2|Independent variable should consist of two categorical independant groups|YES|Areas are either by or not by the river|\n",
    "|3|Independence of observations|YES|None of the areas appear twice and no house appears in more than one area|\n",
    "|4|There should be no significant outliers|NO|There are a number of outliers in the Median Values of houses not by the river|\n",
    "|5|Dependent variable should be approximately normally distributed for each group|UNKNOWN|At first glance yes, but we will need to test to be sure|\n",
    "|6|Needs to be homogeneity of variances|UNKNOWN|We will also need to test for this|\n"
   ]
  },
  {
   "cell_type": "markdown",
   "metadata": {},
   "source": [
    "As you can see above, the first three requirements were met, but the 4th requirement was failed and the 5th and 6th requirements required further investigation before we can continue with out T-Test."
   ]
  },
  {
   "cell_type": "markdown",
   "metadata": {},
   "source": [
    "### Removing Outliers"
   ]
  },
  {
   "cell_type": "code",
   "execution_count": 29,
   "metadata": {},
   "outputs": [
    {
     "data": {
      "text/plain": [
       "<matplotlib.axes._subplots.AxesSubplot at 0x1e56407e320>"
      ]
     },
     "execution_count": 29,
     "metadata": {},
     "output_type": "execute_result"
    },
    {
     "data": {
      "image/png": "[encoded data removed]",
      "text/plain": [
       "<Figure size 1440x1440 with 1 Axes>"
      ]
     },
     "metadata": {
      "needs_background": "light"
     },
     "output_type": "display_data"
    }
   ],
   "source": [
    "sns.boxplot(river_df['Median_Val'])"
   ]
  },
  {
   "cell_type": "markdown",
   "metadata": {},
   "source": [
    "As we can see from the boxplot that we generated earlier there are a significant number of outliers in the target variable (\"Median_Val\"). There are also 16 areas where the median value of houses is $50,000. This indicates  that there might be a cap on values in the dataset at this value or that this value was entered where accurate information was not available. We could just remove these values, but first I will investigate how many outliers there are in total."
   ]
  },
  {
   "cell_type": "markdown",
   "metadata": {},
   "source": [
    "In order to identify the outliers we need to assign a threshold for the Median Value, above or below which we will consider the data point to be an outlier. The most obvious way of this is to follow the same method as the box-plot an remove an datapoints that are outside of the 75th and 25th percentiles. The Pandas library has a built in quantile method that can be used to calculate these thresholds."
   ]
  },
  {
   "cell_type": "code",
   "execution_count": 30,
   "metadata": {},
   "outputs": [
    {
     "data": {
      "text/plain": [
       "17.025"
      ]
     },
     "execution_count": 30,
     "metadata": {},
     "output_type": "execute_result"
    }
   ],
   "source": [
    "Q1 = river_df['Median_Val'].quantile(0.25)\n",
    "Q1"
   ]
  },
  {
   "cell_type": "code",
   "execution_count": 31,
   "metadata": {},
   "outputs": [
    {
     "data": {
      "text/plain": [
       "25.0"
      ]
     },
     "execution_count": 31,
     "metadata": {},
     "output_type": "execute_result"
    }
   ],
   "source": [
    "Q3 = river_df['Median_Val'].quantile(0.75)\n",
    "Q3"
   ]
  },
  {
   "cell_type": "code",
   "execution_count": 32,
   "metadata": {},
   "outputs": [
    {
     "data": {
      "text/plain": [
       "7.975000000000001"
      ]
     },
     "execution_count": 32,
     "metadata": {},
     "output_type": "execute_result"
    }
   ],
   "source": [
    "IQR = Q3 - Q1\n",
    "IQR"
   ]
  },
  {
   "cell_type": "markdown",
   "metadata": {},
   "source": [
    "Now that the interquartile range has been calculated we can find the upper and lower \"whisker\" values for the box plot which will acts as our thresholds."
   ]
  },
  {
   "cell_type": "code",
   "execution_count": 33,
   "metadata": {},
   "outputs": [
    {
     "data": {
      "text/plain": [
       "5.0624999999999964"
      ]
     },
     "execution_count": 33,
     "metadata": {},
     "output_type": "execute_result"
    }
   ],
   "source": [
    "# calculate where the tip of the lower boxplot whisker is\n",
    "lower_thresh = Q1 - 1.5 * IQR\n",
    "lower_thresh"
   ]
  },
  {
   "cell_type": "code",
   "execution_count": 34,
   "metadata": {},
   "outputs": [
    {
     "data": {
      "text/plain": [
       "36.962500000000006"
      ]
     },
     "execution_count": 34,
     "metadata": {},
     "output_type": "execute_result"
    }
   ],
   "source": [
    "# calculate where the tip of the upper boxplot whisker is\n",
    "upper_thresh = Q3 + 1.5 * IQR\n",
    "upper_thresh"
   ]
  },
  {
   "cell_type": "code",
   "execution_count": 35,
   "metadata": {},
   "outputs": [
    {
     "data": {
      "text/html": [
       "<div>\n",
       "<style scoped>\n",
       "    .dataframe tbody tr th:only-of-type {\n",
       "        vertical-align: middle;\n",
       "    }\n",
       "\n",
       "    .dataframe tbody tr th {\n",
       "        vertical-align: top;\n",
       "    }\n",
       "\n",
       "    .dataframe thead th {\n",
       "        text-align: right;\n",
       "    }\n",
       "</style>\n",
       "<table border=\"1\" class=\"dataframe\">\n",
       "  <thead>\n",
       "    <tr style=\"text-align: right;\">\n",
       "      <th></th>\n",
       "      <th>By_River</th>\n",
       "      <th>Median_Val</th>\n",
       "    </tr>\n",
       "  </thead>\n",
       "  <tbody>\n",
       "    <tr>\n",
       "      <th>398</th>\n",
       "      <td>0.0</td>\n",
       "      <td>5.0</td>\n",
       "    </tr>\n",
       "    <tr>\n",
       "      <th>405</th>\n",
       "      <td>0.0</td>\n",
       "      <td>5.0</td>\n",
       "    </tr>\n",
       "  </tbody>\n",
       "</table>\n",
       "</div>"
      ],
      "text/plain": [
       "     By_River  Median_Val\n",
       "398       0.0         5.0\n",
       "405       0.0         5.0"
      ]
     },
     "execution_count": 35,
     "metadata": {},
     "output_type": "execute_result"
    }
   ],
   "source": [
    "# show all values that are below the lower outlier threshold\n",
    "below = river_df.loc[river_df['Median_Val'] < lower_thresh]\n",
    "below"
   ]
  },
  {
   "cell_type": "markdown",
   "metadata": {},
   "source": [
    "There are two data points below the lower threshold."
   ]
  },
  {
   "cell_type": "code",
   "execution_count": 36,
   "metadata": {},
   "outputs": [
    {
     "data": {
      "text/html": [
       "<div>\n",
       "<style scoped>\n",
       "    .dataframe tbody tr th:only-of-type {\n",
       "        vertical-align: middle;\n",
       "    }\n",
       "\n",
       "    .dataframe tbody tr th {\n",
       "        vertical-align: top;\n",
       "    }\n",
       "\n",
       "    .dataframe thead th {\n",
       "        text-align: right;\n",
       "    }\n",
       "</style>\n",
       "<table border=\"1\" class=\"dataframe\">\n",
       "  <thead>\n",
       "    <tr style=\"text-align: right;\">\n",
       "      <th></th>\n",
       "      <th>By_River</th>\n",
       "      <th>Median_Val</th>\n",
       "    </tr>\n",
       "  </thead>\n",
       "  <tbody>\n",
       "    <tr>\n",
       "      <th>97</th>\n",
       "      <td>0.0</td>\n",
       "      <td>38.7</td>\n",
       "    </tr>\n",
       "    <tr>\n",
       "      <th>98</th>\n",
       "      <td>0.0</td>\n",
       "      <td>43.8</td>\n",
       "    </tr>\n",
       "    <tr>\n",
       "      <th>157</th>\n",
       "      <td>0.0</td>\n",
       "      <td>41.3</td>\n",
       "    </tr>\n",
       "    <tr>\n",
       "      <th>161</th>\n",
       "      <td>0.0</td>\n",
       "      <td>50.0</td>\n",
       "    </tr>\n",
       "    <tr>\n",
       "      <th>162</th>\n",
       "      <td>1.0</td>\n",
       "      <td>50.0</td>\n",
       "    </tr>\n",
       "    <tr>\n",
       "      <th>163</th>\n",
       "      <td>1.0</td>\n",
       "      <td>50.0</td>\n",
       "    </tr>\n",
       "    <tr>\n",
       "      <th>166</th>\n",
       "      <td>0.0</td>\n",
       "      <td>50.0</td>\n",
       "    </tr>\n",
       "    <tr>\n",
       "      <th>179</th>\n",
       "      <td>0.0</td>\n",
       "      <td>37.2</td>\n",
       "    </tr>\n",
       "    <tr>\n",
       "      <th>180</th>\n",
       "      <td>0.0</td>\n",
       "      <td>39.8</td>\n",
       "    </tr>\n",
       "    <tr>\n",
       "      <th>182</th>\n",
       "      <td>0.0</td>\n",
       "      <td>37.9</td>\n",
       "    </tr>\n",
       "    <tr>\n",
       "      <th>186</th>\n",
       "      <td>0.0</td>\n",
       "      <td>50.0</td>\n",
       "    </tr>\n",
       "    <tr>\n",
       "      <th>190</th>\n",
       "      <td>0.0</td>\n",
       "      <td>37.0</td>\n",
       "    </tr>\n",
       "    <tr>\n",
       "      <th>195</th>\n",
       "      <td>0.0</td>\n",
       "      <td>50.0</td>\n",
       "    </tr>\n",
       "    <tr>\n",
       "      <th>202</th>\n",
       "      <td>0.0</td>\n",
       "      <td>42.3</td>\n",
       "    </tr>\n",
       "    <tr>\n",
       "      <th>203</th>\n",
       "      <td>0.0</td>\n",
       "      <td>48.5</td>\n",
       "    </tr>\n",
       "    <tr>\n",
       "      <th>204</th>\n",
       "      <td>0.0</td>\n",
       "      <td>50.0</td>\n",
       "    </tr>\n",
       "    <tr>\n",
       "      <th>224</th>\n",
       "      <td>0.0</td>\n",
       "      <td>44.8</td>\n",
       "    </tr>\n",
       "    <tr>\n",
       "      <th>225</th>\n",
       "      <td>0.0</td>\n",
       "      <td>50.0</td>\n",
       "    </tr>\n",
       "    <tr>\n",
       "      <th>226</th>\n",
       "      <td>0.0</td>\n",
       "      <td>37.6</td>\n",
       "    </tr>\n",
       "    <tr>\n",
       "      <th>228</th>\n",
       "      <td>0.0</td>\n",
       "      <td>46.7</td>\n",
       "    </tr>\n",
       "    <tr>\n",
       "      <th>232</th>\n",
       "      <td>0.0</td>\n",
       "      <td>41.7</td>\n",
       "    </tr>\n",
       "    <tr>\n",
       "      <th>233</th>\n",
       "      <td>0.0</td>\n",
       "      <td>48.3</td>\n",
       "    </tr>\n",
       "    <tr>\n",
       "      <th>253</th>\n",
       "      <td>0.0</td>\n",
       "      <td>42.8</td>\n",
       "    </tr>\n",
       "    <tr>\n",
       "      <th>256</th>\n",
       "      <td>0.0</td>\n",
       "      <td>44.0</td>\n",
       "    </tr>\n",
       "    <tr>\n",
       "      <th>257</th>\n",
       "      <td>0.0</td>\n",
       "      <td>50.0</td>\n",
       "    </tr>\n",
       "    <tr>\n",
       "      <th>261</th>\n",
       "      <td>0.0</td>\n",
       "      <td>43.1</td>\n",
       "    </tr>\n",
       "    <tr>\n",
       "      <th>262</th>\n",
       "      <td>0.0</td>\n",
       "      <td>48.8</td>\n",
       "    </tr>\n",
       "    <tr>\n",
       "      <th>267</th>\n",
       "      <td>0.0</td>\n",
       "      <td>50.0</td>\n",
       "    </tr>\n",
       "    <tr>\n",
       "      <th>268</th>\n",
       "      <td>0.0</td>\n",
       "      <td>43.5</td>\n",
       "    </tr>\n",
       "    <tr>\n",
       "      <th>280</th>\n",
       "      <td>0.0</td>\n",
       "      <td>45.4</td>\n",
       "    </tr>\n",
       "    <tr>\n",
       "      <th>282</th>\n",
       "      <td>1.0</td>\n",
       "      <td>46.0</td>\n",
       "    </tr>\n",
       "    <tr>\n",
       "      <th>283</th>\n",
       "      <td>1.0</td>\n",
       "      <td>50.0</td>\n",
       "    </tr>\n",
       "    <tr>\n",
       "      <th>291</th>\n",
       "      <td>0.0</td>\n",
       "      <td>37.3</td>\n",
       "    </tr>\n",
       "    <tr>\n",
       "      <th>368</th>\n",
       "      <td>0.0</td>\n",
       "      <td>50.0</td>\n",
       "    </tr>\n",
       "    <tr>\n",
       "      <th>369</th>\n",
       "      <td>1.0</td>\n",
       "      <td>50.0</td>\n",
       "    </tr>\n",
       "    <tr>\n",
       "      <th>370</th>\n",
       "      <td>1.0</td>\n",
       "      <td>50.0</td>\n",
       "    </tr>\n",
       "    <tr>\n",
       "      <th>371</th>\n",
       "      <td>0.0</td>\n",
       "      <td>50.0</td>\n",
       "    </tr>\n",
       "    <tr>\n",
       "      <th>372</th>\n",
       "      <td>1.0</td>\n",
       "      <td>50.0</td>\n",
       "    </tr>\n",
       "  </tbody>\n",
       "</table>\n",
       "</div>"
      ],
      "text/plain": [
       "     By_River  Median_Val\n",
       "97        0.0        38.7\n",
       "98        0.0        43.8\n",
       "157       0.0        41.3\n",
       "161       0.0        50.0\n",
       "162       1.0        50.0\n",
       "163       1.0        50.0\n",
       "166       0.0        50.0\n",
       "179       0.0        37.2\n",
       "180       0.0        39.8\n",
       "182       0.0        37.9\n",
       "186       0.0        50.0\n",
       "190       0.0        37.0\n",
       "195       0.0        50.0\n",
       "202       0.0        42.3\n",
       "203       0.0        48.5\n",
       "204       0.0        50.0\n",
       "224       0.0        44.8\n",
       "225       0.0        50.0\n",
       "226       0.0        37.6\n",
       "228       0.0        46.7\n",
       "232       0.0        41.7\n",
       "233       0.0        48.3\n",
       "253       0.0        42.8\n",
       "256       0.0        44.0\n",
       "257       0.0        50.0\n",
       "261       0.0        43.1\n",
       "262       0.0        48.8\n",
       "267       0.0        50.0\n",
       "268       0.0        43.5\n",
       "280       0.0        45.4\n",
       "282       1.0        46.0\n",
       "283       1.0        50.0\n",
       "291       0.0        37.3\n",
       "368       0.0        50.0\n",
       "369       1.0        50.0\n",
       "370       1.0        50.0\n",
       "371       0.0        50.0\n",
       "372       1.0        50.0"
      ]
     },
     "execution_count": 36,
     "metadata": {},
     "output_type": "execute_result"
    }
   ],
   "source": [
    "# show all values that are above the upper outlier threshold\n",
    "above = river_df.loc[river_df['Median_Val'] > upper_thresh]\n",
    "above"
   ]
  },
  {
   "cell_type": "code",
   "execution_count": 37,
   "metadata": {},
   "outputs": [
    {
     "data": {
      "text/plain": [
       "38"
      ]
     },
     "execution_count": 37,
     "metadata": {},
     "output_type": "execute_result"
    }
   ],
   "source": [
    "above[\"Median_Val\"].count()"
   ]
  },
  {
   "cell_type": "markdown",
   "metadata": {},
   "source": [
    "There are 38 datapoints that are higher that the upper threshold. We can create a dataset called \"no_outliers\" that does not contain any outliers by removing both these groups."
   ]
  },
  {
   "cell_type": "code",
   "execution_count": 54,
   "metadata": {},
   "outputs": [
    {
     "data": {
      "text/html": [
       "<div>\n",
       "<style scoped>\n",
       "    .dataframe tbody tr th:only-of-type {\n",
       "        vertical-align: middle;\n",
       "    }\n",
       "\n",
       "    .dataframe tbody tr th {\n",
       "        vertical-align: top;\n",
       "    }\n",
       "\n",
       "    .dataframe thead th {\n",
       "        text-align: right;\n",
       "    }\n",
       "</style>\n",
       "<table border=\"1\" class=\"dataframe\">\n",
       "  <thead>\n",
       "    <tr style=\"text-align: right;\">\n",
       "      <th></th>\n",
       "      <th>By_River</th>\n",
       "      <th>Median_Val</th>\n",
       "    </tr>\n",
       "  </thead>\n",
       "  <tbody>\n",
       "    <tr>\n",
       "      <th>0</th>\n",
       "      <td>0.0</td>\n",
       "      <td>24.0</td>\n",
       "    </tr>\n",
       "    <tr>\n",
       "      <th>1</th>\n",
       "      <td>0.0</td>\n",
       "      <td>21.6</td>\n",
       "    </tr>\n",
       "    <tr>\n",
       "      <th>2</th>\n",
       "      <td>0.0</td>\n",
       "      <td>34.7</td>\n",
       "    </tr>\n",
       "    <tr>\n",
       "      <th>3</th>\n",
       "      <td>0.0</td>\n",
       "      <td>33.4</td>\n",
       "    </tr>\n",
       "    <tr>\n",
       "      <th>4</th>\n",
       "      <td>0.0</td>\n",
       "      <td>36.2</td>\n",
       "    </tr>\n",
       "    <tr>\n",
       "      <th>5</th>\n",
       "      <td>0.0</td>\n",
       "      <td>28.7</td>\n",
       "    </tr>\n",
       "    <tr>\n",
       "      <th>6</th>\n",
       "      <td>0.0</td>\n",
       "      <td>22.9</td>\n",
       "    </tr>\n",
       "    <tr>\n",
       "      <th>7</th>\n",
       "      <td>0.0</td>\n",
       "      <td>27.1</td>\n",
       "    </tr>\n",
       "    <tr>\n",
       "      <th>8</th>\n",
       "      <td>0.0</td>\n",
       "      <td>16.5</td>\n",
       "    </tr>\n",
       "    <tr>\n",
       "      <th>9</th>\n",
       "      <td>0.0</td>\n",
       "      <td>18.9</td>\n",
       "    </tr>\n",
       "    <tr>\n",
       "      <th>10</th>\n",
       "      <td>0.0</td>\n",
       "      <td>15.0</td>\n",
       "    </tr>\n",
       "    <tr>\n",
       "      <th>11</th>\n",
       "      <td>0.0</td>\n",
       "      <td>18.9</td>\n",
       "    </tr>\n",
       "    <tr>\n",
       "      <th>12</th>\n",
       "      <td>0.0</td>\n",
       "      <td>21.7</td>\n",
       "    </tr>\n",
       "    <tr>\n",
       "      <th>13</th>\n",
       "      <td>0.0</td>\n",
       "      <td>20.4</td>\n",
       "    </tr>\n",
       "    <tr>\n",
       "      <th>14</th>\n",
       "      <td>0.0</td>\n",
       "      <td>18.2</td>\n",
       "    </tr>\n",
       "    <tr>\n",
       "      <th>15</th>\n",
       "      <td>0.0</td>\n",
       "      <td>19.9</td>\n",
       "    </tr>\n",
       "    <tr>\n",
       "      <th>16</th>\n",
       "      <td>0.0</td>\n",
       "      <td>23.1</td>\n",
       "    </tr>\n",
       "    <tr>\n",
       "      <th>17</th>\n",
       "      <td>0.0</td>\n",
       "      <td>17.5</td>\n",
       "    </tr>\n",
       "    <tr>\n",
       "      <th>18</th>\n",
       "      <td>0.0</td>\n",
       "      <td>20.2</td>\n",
       "    </tr>\n",
       "    <tr>\n",
       "      <th>19</th>\n",
       "      <td>0.0</td>\n",
       "      <td>18.2</td>\n",
       "    </tr>\n",
       "    <tr>\n",
       "      <th>20</th>\n",
       "      <td>0.0</td>\n",
       "      <td>13.6</td>\n",
       "    </tr>\n",
       "    <tr>\n",
       "      <th>21</th>\n",
       "      <td>0.0</td>\n",
       "      <td>19.6</td>\n",
       "    </tr>\n",
       "    <tr>\n",
       "      <th>22</th>\n",
       "      <td>0.0</td>\n",
       "      <td>15.2</td>\n",
       "    </tr>\n",
       "    <tr>\n",
       "      <th>23</th>\n",
       "      <td>0.0</td>\n",
       "      <td>14.5</td>\n",
       "    </tr>\n",
       "    <tr>\n",
       "      <th>24</th>\n",
       "      <td>0.0</td>\n",
       "      <td>15.6</td>\n",
       "    </tr>\n",
       "    <tr>\n",
       "      <th>25</th>\n",
       "      <td>0.0</td>\n",
       "      <td>13.9</td>\n",
       "    </tr>\n",
       "    <tr>\n",
       "      <th>26</th>\n",
       "      <td>0.0</td>\n",
       "      <td>16.6</td>\n",
       "    </tr>\n",
       "    <tr>\n",
       "      <th>27</th>\n",
       "      <td>0.0</td>\n",
       "      <td>14.8</td>\n",
       "    </tr>\n",
       "    <tr>\n",
       "      <th>28</th>\n",
       "      <td>0.0</td>\n",
       "      <td>18.4</td>\n",
       "    </tr>\n",
       "    <tr>\n",
       "      <th>29</th>\n",
       "      <td>0.0</td>\n",
       "      <td>21.0</td>\n",
       "    </tr>\n",
       "    <tr>\n",
       "      <th>...</th>\n",
       "      <td>...</td>\n",
       "      <td>...</td>\n",
       "    </tr>\n",
       "    <tr>\n",
       "      <th>476</th>\n",
       "      <td>0.0</td>\n",
       "      <td>16.7</td>\n",
       "    </tr>\n",
       "    <tr>\n",
       "      <th>477</th>\n",
       "      <td>0.0</td>\n",
       "      <td>12.0</td>\n",
       "    </tr>\n",
       "    <tr>\n",
       "      <th>478</th>\n",
       "      <td>0.0</td>\n",
       "      <td>14.6</td>\n",
       "    </tr>\n",
       "    <tr>\n",
       "      <th>479</th>\n",
       "      <td>0.0</td>\n",
       "      <td>21.4</td>\n",
       "    </tr>\n",
       "    <tr>\n",
       "      <th>480</th>\n",
       "      <td>0.0</td>\n",
       "      <td>23.0</td>\n",
       "    </tr>\n",
       "    <tr>\n",
       "      <th>481</th>\n",
       "      <td>0.0</td>\n",
       "      <td>23.7</td>\n",
       "    </tr>\n",
       "    <tr>\n",
       "      <th>482</th>\n",
       "      <td>0.0</td>\n",
       "      <td>25.0</td>\n",
       "    </tr>\n",
       "    <tr>\n",
       "      <th>483</th>\n",
       "      <td>0.0</td>\n",
       "      <td>21.8</td>\n",
       "    </tr>\n",
       "    <tr>\n",
       "      <th>484</th>\n",
       "      <td>0.0</td>\n",
       "      <td>20.6</td>\n",
       "    </tr>\n",
       "    <tr>\n",
       "      <th>485</th>\n",
       "      <td>0.0</td>\n",
       "      <td>21.2</td>\n",
       "    </tr>\n",
       "    <tr>\n",
       "      <th>486</th>\n",
       "      <td>0.0</td>\n",
       "      <td>19.1</td>\n",
       "    </tr>\n",
       "    <tr>\n",
       "      <th>487</th>\n",
       "      <td>0.0</td>\n",
       "      <td>20.6</td>\n",
       "    </tr>\n",
       "    <tr>\n",
       "      <th>488</th>\n",
       "      <td>0.0</td>\n",
       "      <td>15.2</td>\n",
       "    </tr>\n",
       "    <tr>\n",
       "      <th>489</th>\n",
       "      <td>0.0</td>\n",
       "      <td>7.0</td>\n",
       "    </tr>\n",
       "    <tr>\n",
       "      <th>490</th>\n",
       "      <td>0.0</td>\n",
       "      <td>8.1</td>\n",
       "    </tr>\n",
       "    <tr>\n",
       "      <th>491</th>\n",
       "      <td>0.0</td>\n",
       "      <td>13.6</td>\n",
       "    </tr>\n",
       "    <tr>\n",
       "      <th>492</th>\n",
       "      <td>0.0</td>\n",
       "      <td>20.1</td>\n",
       "    </tr>\n",
       "    <tr>\n",
       "      <th>493</th>\n",
       "      <td>0.0</td>\n",
       "      <td>21.8</td>\n",
       "    </tr>\n",
       "    <tr>\n",
       "      <th>494</th>\n",
       "      <td>0.0</td>\n",
       "      <td>24.5</td>\n",
       "    </tr>\n",
       "    <tr>\n",
       "      <th>495</th>\n",
       "      <td>0.0</td>\n",
       "      <td>23.1</td>\n",
       "    </tr>\n",
       "    <tr>\n",
       "      <th>496</th>\n",
       "      <td>0.0</td>\n",
       "      <td>19.7</td>\n",
       "    </tr>\n",
       "    <tr>\n",
       "      <th>497</th>\n",
       "      <td>0.0</td>\n",
       "      <td>18.3</td>\n",
       "    </tr>\n",
       "    <tr>\n",
       "      <th>498</th>\n",
       "      <td>0.0</td>\n",
       "      <td>21.2</td>\n",
       "    </tr>\n",
       "    <tr>\n",
       "      <th>499</th>\n",
       "      <td>0.0</td>\n",
       "      <td>17.5</td>\n",
       "    </tr>\n",
       "    <tr>\n",
       "      <th>500</th>\n",
       "      <td>0.0</td>\n",
       "      <td>16.8</td>\n",
       "    </tr>\n",
       "    <tr>\n",
       "      <th>501</th>\n",
       "      <td>0.0</td>\n",
       "      <td>22.4</td>\n",
       "    </tr>\n",
       "    <tr>\n",
       "      <th>502</th>\n",
       "      <td>0.0</td>\n",
       "      <td>20.6</td>\n",
       "    </tr>\n",
       "    <tr>\n",
       "      <th>503</th>\n",
       "      <td>0.0</td>\n",
       "      <td>23.9</td>\n",
       "    </tr>\n",
       "    <tr>\n",
       "      <th>504</th>\n",
       "      <td>0.0</td>\n",
       "      <td>22.0</td>\n",
       "    </tr>\n",
       "    <tr>\n",
       "      <th>505</th>\n",
       "      <td>0.0</td>\n",
       "      <td>11.9</td>\n",
       "    </tr>\n",
       "  </tbody>\n",
       "</table>\n",
       "<p>466 rows × 2 columns</p>\n",
       "</div>"
      ],
      "text/plain": [
       "     By_River  Median_Val\n",
       "0         0.0        24.0\n",
       "1         0.0        21.6\n",
       "2         0.0        34.7\n",
       "3         0.0        33.4\n",
       "4         0.0        36.2\n",
       "..        ...         ...\n",
       "501       0.0        22.4\n",
       "502       0.0        20.6\n",
       "503       0.0        23.9\n",
       "504       0.0        22.0\n",
       "505       0.0        11.9\n",
       "\n",
       "[466 rows x 2 columns]"
      ]
     },
     "execution_count": 54,
     "metadata": {},
     "output_type": "execute_result"
    }
   ],
   "source": [
    "no_outliers = river_df[((river_df['Median_Val'] > lower_thresh) & (river_df['Median_Val'] < upper_thresh))]\n",
    "no_outliers"
   ]
  },
  {
   "cell_type": "markdown",
   "metadata": {},
   "source": [
    "We can then compare what our two populations look like with the outliers removed."
   ]
  },
  {
   "cell_type": "code",
   "execution_count": 56,
   "metadata": {},
   "outputs": [
    {
     "data": {
      "text/plain": [
       "<seaborn.axisgrid.FacetGrid at 0x1e54e531898>"
      ]
     },
     "execution_count": 56,
     "metadata": {},
     "output_type": "execute_result"
    },
    {
     "data": {
      "image/png": "[encoded data removed]",
      "text/plain": [
       "<Figure size 360x360 with 1 Axes>"
      ]
     },
     "metadata": {
      "needs_background": "light"
     },
     "output_type": "display_data"
    }
   ],
   "source": [
    "sns.catplot(x='By_River', y='Median_Val', kind='box', data=no_outliers)"
   ]
  },
  {
   "cell_type": "markdown",
   "metadata": {},
   "source": [
    "### The dependant varibale needs to be approxmately normally distributed in each group."
   ]
  },
  {
   "cell_type": "markdown",
   "metadata": {},
   "source": [
    "In order to test this I created two new groups from the \"no_outliers\" dataset."
   ]
  },
  {
   "cell_type": "code",
   "execution_count": 70,
   "metadata": {},
   "outputs": [
    {
     "data": {
      "image/png": "[encoded data removed]",
      "text/plain": [
       "<Figure size 1440x1440 with 1 Axes>"
      ]
     },
     "metadata": {
      "needs_background": "light"
     },
     "output_type": "display_data"
    }
   ],
   "source": [
    "cleansed_next_to_river = no_outliers[no_outliers['By_River'] == 1]\n",
    "cleansed_away_from_river = no_outliers[no_outliers['By_River'] == 0]\n",
    "\n",
    "ax = sns.distplot(cleansed_next_to_river['Median_Val'])\n",
    "ax = sns.distplot(cleansed_away_from_river['Median_Val'])\n",
    "pyplt.rcParams[\"figure.figsize\"] = (20,20)"
   ]
  },
  {
   "cell_type": "markdown",
   "metadata": {},
   "source": [
    "From looking at the two \"cleansed\" datasets it can be observed that both are much closer to appearing to be normally distributed. However, we will need to test for this using Scipys \"normaltest\" function."
   ]
  },
  {
   "cell_type": "code",
   "execution_count": 73,
   "metadata": {},
   "outputs": [
    {
     "name": "stdout",
     "output_type": "stream",
     "text": [
      "NormaltestResult(statistic=1.289316190319236, pvalue=0.5248419574390437)\n",
      "NormaltestResult(statistic=3.405851916816045, pvalue=0.1821497808954563)\n"
     ]
    }
   ],
   "source": [
    "from scipy import stats\n",
    "next_to_river_Ntest = stats.normaltest(cleansed_next_to_river['Median_Val'])\n",
    "away_from_river_Ntest = stats.normaltest(cleansed_away_from_river['Median_Val'])\n",
    "print(next_to_river_Ntest)\n",
    "print(away_from_river_Ntest)\n"
   ]
  },
  {
   "cell_type": "markdown",
   "metadata": {},
   "source": [
    "For both groups the Pvalue is greater than the alpha threshold(0.05). We can therefore say with a good degree of certainty that the data is normally distributed.\n",
    "https://machinelearningmastery.com/a-gentle-introduction-to-normality-tests-in-python/"
   ]
  },
  {
   "cell_type": "markdown",
   "metadata": {},
   "source": [
    "# 4. Predictions\n"
   ]
  },
  {
   "cell_type": "markdown",
   "metadata": {},
   "source": [
    "# 5. References"
   ]
  },
  {
   "cell_type": "markdown",
   "metadata": {},
   "source": [
    "1. Why Multicollinearity is bad https://en.wikipedia.org/wiki/Multicollinearity (why we exclude Tax, Highway_access, Dis_to_jobs, and %Pre_1940)\n",
    "2. Good example of the project with other features removed https://olegleyz.github.io/boston_housing.html\n",
    "3. Another good project http://www.neural.cz/dataset-exploration-boston-house-pricing.html\n"
   ]
  },
  {
   "cell_type": "code",
   "execution_count": null,
   "metadata": {},
   "outputs": [],
   "source": []
  }
 ],
 "metadata": {
  "kernelspec": {
   "display_name": "Python 3",
   "language": "python",
   "name": "python3"
  },
  "language_info": {
   "codemirror_mode": {
    "name": "ipython",
    "version": 3
   },
   "file_extension": ".py",
   "mimetype": "text/x-python",
   "name": "python",
   "nbconvert_exporter": "python",
   "pygments_lexer": "ipython3",
   "version": "3.6.9"
  }
 },
 "nbformat": 4,
 "nbformat_minor": 2
}
